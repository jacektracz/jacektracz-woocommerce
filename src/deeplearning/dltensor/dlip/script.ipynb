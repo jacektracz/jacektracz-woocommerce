{
 "cells": [
  {
   "cell_type": "code",
   "execution_count": 3,
   "metadata": {},
   "outputs": [],
   "source": [
    "import pandas as pd\n",
    "import numpy as np\n",
    "import matplotlib.pyplot as plt\n",
    "%matplotlib inline\n",
    "import warnings \n",
    "warnings.filterwarnings('ignore')"
   ]
  },
  {
   "cell_type": "code",
   "execution_count": 4,
   "metadata": {},
   "outputs": [],
   "source": [
    "data = pd.read_csv('ClimateChange_MonthlyStart.csv')"
   ]
  },
  {
   "cell_type": "code",
   "execution_count": 5,
   "metadata": {},
   "outputs": [
    {
     "data": {
      "text/html": [
       "<div>\n",
       "<style scoped>\n",
       "    .dataframe tbody tr th:only-of-type {\n",
       "        vertical-align: middle;\n",
       "    }\n",
       "\n",
       "    .dataframe tbody tr th {\n",
       "        vertical-align: top;\n",
       "    }\n",
       "\n",
       "    .dataframe thead th {\n",
       "        text-align: right;\n",
       "    }\n",
       "</style>\n",
       "<table border=\"1\" class=\"dataframe\">\n",
       "  <thead>\n",
       "    <tr style=\"text-align: right;\">\n",
       "      <th></th>\n",
       "      <th>Unnamed: 0</th>\n",
       "      <th>Source</th>\n",
       "      <th>Date</th>\n",
       "      <th>Mean</th>\n",
       "    </tr>\n",
       "  </thead>\n",
       "  <tbody>\n",
       "    <tr>\n",
       "      <th>0</th>\n",
       "      <td>0</td>\n",
       "      <td>GCAG</td>\n",
       "      <td>2016-12</td>\n",
       "      <td>0.7895</td>\n",
       "    </tr>\n",
       "    <tr>\n",
       "      <th>1</th>\n",
       "      <td>1</td>\n",
       "      <td>GISTEMP</td>\n",
       "      <td>2016-12</td>\n",
       "      <td>0.8100</td>\n",
       "    </tr>\n",
       "    <tr>\n",
       "      <th>2</th>\n",
       "      <td>2</td>\n",
       "      <td>GCAG</td>\n",
       "      <td>2016-11</td>\n",
       "      <td>0.7504</td>\n",
       "    </tr>\n",
       "    <tr>\n",
       "      <th>3</th>\n",
       "      <td>3</td>\n",
       "      <td>GISTEMP</td>\n",
       "      <td>2016-11</td>\n",
       "      <td>0.9300</td>\n",
       "    </tr>\n",
       "    <tr>\n",
       "      <th>4</th>\n",
       "      <td>4</td>\n",
       "      <td>GCAG</td>\n",
       "      <td>2016-10</td>\n",
       "      <td>0.7292</td>\n",
       "    </tr>\n",
       "  </tbody>\n",
       "</table>\n",
       "</div>"
      ],
      "text/plain": [
       "   Unnamed: 0   Source     Date    Mean\n",
       "0           0     GCAG  2016-12  0.7895\n",
       "1           1  GISTEMP  2016-12  0.8100\n",
       "2           2     GCAG  2016-11  0.7504\n",
       "3           3  GISTEMP  2016-11  0.9300\n",
       "4           4     GCAG  2016-10  0.7292"
      ]
     },
     "execution_count": 5,
     "metadata": {},
     "output_type": "execute_result"
    }
   ],
   "source": [
    "data.head()"
   ]
  },
  {
   "cell_type": "code",
   "execution_count": 6,
   "metadata": {},
   "outputs": [],
   "source": [
    "data.drop(columns='Unnamed: 0', inplace=True)"
   ]
  },
  {
   "cell_type": "code",
   "execution_count": 7,
   "metadata": {},
   "outputs": [
    {
     "data": {
      "text/html": [
       "<div>\n",
       "<style scoped>\n",
       "    .dataframe tbody tr th:only-of-type {\n",
       "        vertical-align: middle;\n",
       "    }\n",
       "\n",
       "    .dataframe tbody tr th {\n",
       "        vertical-align: top;\n",
       "    }\n",
       "\n",
       "    .dataframe thead th {\n",
       "        text-align: right;\n",
       "    }\n",
       "</style>\n",
       "<table border=\"1\" class=\"dataframe\">\n",
       "  <thead>\n",
       "    <tr style=\"text-align: right;\">\n",
       "      <th></th>\n",
       "      <th>Source</th>\n",
       "      <th>Date</th>\n",
       "      <th>Mean</th>\n",
       "    </tr>\n",
       "  </thead>\n",
       "  <tbody>\n",
       "    <tr>\n",
       "      <th>0</th>\n",
       "      <td>GCAG</td>\n",
       "      <td>2016-12</td>\n",
       "      <td>0.7895</td>\n",
       "    </tr>\n",
       "    <tr>\n",
       "      <th>1</th>\n",
       "      <td>GISTEMP</td>\n",
       "      <td>2016-12</td>\n",
       "      <td>0.8100</td>\n",
       "    </tr>\n",
       "    <tr>\n",
       "      <th>2</th>\n",
       "      <td>GCAG</td>\n",
       "      <td>2016-11</td>\n",
       "      <td>0.7504</td>\n",
       "    </tr>\n",
       "    <tr>\n",
       "      <th>3</th>\n",
       "      <td>GISTEMP</td>\n",
       "      <td>2016-11</td>\n",
       "      <td>0.9300</td>\n",
       "    </tr>\n",
       "    <tr>\n",
       "      <th>4</th>\n",
       "      <td>GCAG</td>\n",
       "      <td>2016-10</td>\n",
       "      <td>0.7292</td>\n",
       "    </tr>\n",
       "  </tbody>\n",
       "</table>\n",
       "</div>"
      ],
      "text/plain": [
       "    Source     Date    Mean\n",
       "0     GCAG  2016-12  0.7895\n",
       "1  GISTEMP  2016-12  0.8100\n",
       "2     GCAG  2016-11  0.7504\n",
       "3  GISTEMP  2016-11  0.9300\n",
       "4     GCAG  2016-10  0.7292"
      ]
     },
     "execution_count": 7,
     "metadata": {},
     "output_type": "execute_result"
    }
   ],
   "source": [
    "data.head()"
   ]
  },
  {
   "cell_type": "code",
   "execution_count": 8,
   "metadata": {},
   "outputs": [],
   "source": [
    "data = data[data['Source']=='GCAG']"
   ]
  },
  {
   "cell_type": "code",
   "execution_count": 9,
   "metadata": {},
   "outputs": [
    {
     "data": {
      "text/html": [
       "<div>\n",
       "<style scoped>\n",
       "    .dataframe tbody tr th:only-of-type {\n",
       "        vertical-align: middle;\n",
       "    }\n",
       "\n",
       "    .dataframe tbody tr th {\n",
       "        vertical-align: top;\n",
       "    }\n",
       "\n",
       "    .dataframe thead th {\n",
       "        text-align: right;\n",
       "    }\n",
       "</style>\n",
       "<table border=\"1\" class=\"dataframe\">\n",
       "  <thead>\n",
       "    <tr style=\"text-align: right;\">\n",
       "      <th></th>\n",
       "      <th>Source</th>\n",
       "      <th>Date</th>\n",
       "      <th>Mean</th>\n",
       "    </tr>\n",
       "  </thead>\n",
       "  <tbody>\n",
       "    <tr>\n",
       "      <th>0</th>\n",
       "      <td>GCAG</td>\n",
       "      <td>2016-12</td>\n",
       "      <td>0.7895</td>\n",
       "    </tr>\n",
       "    <tr>\n",
       "      <th>2</th>\n",
       "      <td>GCAG</td>\n",
       "      <td>2016-11</td>\n",
       "      <td>0.7504</td>\n",
       "    </tr>\n",
       "    <tr>\n",
       "      <th>4</th>\n",
       "      <td>GCAG</td>\n",
       "      <td>2016-10</td>\n",
       "      <td>0.7292</td>\n",
       "    </tr>\n",
       "    <tr>\n",
       "      <th>6</th>\n",
       "      <td>GCAG</td>\n",
       "      <td>2016-09</td>\n",
       "      <td>0.8767</td>\n",
       "    </tr>\n",
       "    <tr>\n",
       "      <th>8</th>\n",
       "      <td>GCAG</td>\n",
       "      <td>2016-08</td>\n",
       "      <td>0.8998</td>\n",
       "    </tr>\n",
       "  </tbody>\n",
       "</table>\n",
       "</div>"
      ],
      "text/plain": [
       "  Source     Date    Mean\n",
       "0   GCAG  2016-12  0.7895\n",
       "2   GCAG  2016-11  0.7504\n",
       "4   GCAG  2016-10  0.7292\n",
       "6   GCAG  2016-09  0.8767\n",
       "8   GCAG  2016-08  0.8998"
      ]
     },
     "execution_count": 9,
     "metadata": {},
     "output_type": "execute_result"
    }
   ],
   "source": [
    "data.head()"
   ]
  },
  {
   "cell_type": "code",
   "execution_count": 10,
   "metadata": {},
   "outputs": [],
   "source": [
    "data['Date'] = pd.to_datetime(data['Date'])"
   ]
  },
  {
   "cell_type": "code",
   "execution_count": 11,
   "metadata": {},
   "outputs": [],
   "source": [
    "data.set_index('Date',drop=True,inplace=True)"
   ]
  },
  {
   "cell_type": "code",
   "execution_count": 12,
   "metadata": {},
   "outputs": [
    {
     "data": {
      "text/plain": [
       "DatetimeIndex(['2016-12-01', '2016-11-01', '2016-10-01', '2016-09-01',\n",
       "               '2016-08-01', '2016-07-01', '2016-06-01', '2016-05-01',\n",
       "               '2016-04-01', '2016-03-01',\n",
       "               ...\n",
       "               '1880-10-01', '1880-09-01', '1880-08-01', '1880-07-01',\n",
       "               '1880-06-01', '1880-05-01', '1880-04-01', '1880-03-01',\n",
       "               '1880-02-01', '1880-01-01'],\n",
       "              dtype='datetime64[ns]', name='Date', length=1644, freq=None)"
      ]
     },
     "execution_count": 12,
     "metadata": {},
     "output_type": "execute_result"
    }
   ],
   "source": [
    "data.index"
   ]
  },
  {
   "cell_type": "code",
   "execution_count": 13,
   "metadata": {},
   "outputs": [],
   "source": [
    "data = data.sort_index()"
   ]
  },
  {
   "cell_type": "code",
   "execution_count": 14,
   "metadata": {},
   "outputs": [
    {
     "data": {
      "text/html": [
       "<div>\n",
       "<style scoped>\n",
       "    .dataframe tbody tr th:only-of-type {\n",
       "        vertical-align: middle;\n",
       "    }\n",
       "\n",
       "    .dataframe tbody tr th {\n",
       "        vertical-align: top;\n",
       "    }\n",
       "\n",
       "    .dataframe thead th {\n",
       "        text-align: right;\n",
       "    }\n",
       "</style>\n",
       "<table border=\"1\" class=\"dataframe\">\n",
       "  <thead>\n",
       "    <tr style=\"text-align: right;\">\n",
       "      <th></th>\n",
       "      <th>Source</th>\n",
       "      <th>Mean</th>\n",
       "    </tr>\n",
       "    <tr>\n",
       "      <th>Date</th>\n",
       "      <th></th>\n",
       "      <th></th>\n",
       "    </tr>\n",
       "  </thead>\n",
       "  <tbody>\n",
       "    <tr>\n",
       "      <th>1880-01-01</th>\n",
       "      <td>GCAG</td>\n",
       "      <td>0.0009</td>\n",
       "    </tr>\n",
       "    <tr>\n",
       "      <th>1880-02-01</th>\n",
       "      <td>GCAG</td>\n",
       "      <td>-0.1229</td>\n",
       "    </tr>\n",
       "    <tr>\n",
       "      <th>1880-03-01</th>\n",
       "      <td>GCAG</td>\n",
       "      <td>-0.1357</td>\n",
       "    </tr>\n",
       "    <tr>\n",
       "      <th>1880-04-01</th>\n",
       "      <td>GCAG</td>\n",
       "      <td>-0.0499</td>\n",
       "    </tr>\n",
       "    <tr>\n",
       "      <th>1880-05-01</th>\n",
       "      <td>GCAG</td>\n",
       "      <td>-0.0738</td>\n",
       "    </tr>\n",
       "  </tbody>\n",
       "</table>\n",
       "</div>"
      ],
      "text/plain": [
       "           Source    Mean\n",
       "Date                     \n",
       "1880-01-01   GCAG  0.0009\n",
       "1880-02-01   GCAG -0.1229\n",
       "1880-03-01   GCAG -0.1357\n",
       "1880-04-01   GCAG -0.0499\n",
       "1880-05-01   GCAG -0.0738"
      ]
     },
     "execution_count": 14,
     "metadata": {},
     "output_type": "execute_result"
    }
   ],
   "source": [
    "data.head()"
   ]
  },
  {
   "cell_type": "code",
   "execution_count": 15,
   "metadata": {},
   "outputs": [],
   "source": [
    "data.index.freq='MS'"
   ]
  },
  {
   "cell_type": "code",
   "execution_count": 16,
   "metadata": {},
   "outputs": [
    {
     "data": {
      "text/plain": [
       "DatetimeIndex(['1880-01-01', '1880-02-01', '1880-03-01', '1880-04-01',\n",
       "               '1880-05-01', '1880-06-01', '1880-07-01', '1880-08-01',\n",
       "               '1880-09-01', '1880-10-01',\n",
       "               ...\n",
       "               '2016-03-01', '2016-04-01', '2016-05-01', '2016-06-01',\n",
       "               '2016-07-01', '2016-08-01', '2016-09-01', '2016-10-01',\n",
       "               '2016-11-01', '2016-12-01'],\n",
       "              dtype='datetime64[ns]', name='Date', length=1644, freq='MS')"
      ]
     },
     "execution_count": 16,
     "metadata": {},
     "output_type": "execute_result"
    }
   ],
   "source": [
    "data.index"
   ]
  },
  {
   "cell_type": "code",
   "execution_count": 17,
   "metadata": {},
   "outputs": [
    {
     "data": {
      "text/plain": [
       "<matplotlib.axes._subplots.AxesSubplot at 0x12bda1ba8>"
      ]
     },
     "execution_count": 17,
     "metadata": {},
     "output_type": "execute_result"
    },
    {
     "data": {
      "image/png": "[encoded data removed]",
      "text/plain": [
       "<Figure size 1440x432 with 1 Axes>"
      ]
     },
     "metadata": {},
     "output_type": "display_data"
    }
   ],
   "source": [
    "data.plot(figsize=(20,6))"
   ]
  },
  {
   "cell_type": "code",
   "execution_count": 18,
   "metadata": {},
   "outputs": [],
   "source": [
    "from statsmodels.graphics.tsaplots import plot_acf, plot_pacf"
   ]
  },
  {
   "cell_type": "code",
   "execution_count": 19,
   "metadata": {
    "scrolled": true
   },
   "outputs": [
    {
     "data": {
      "image/png": "[encoded data removed]",
      "text/plain": [
       "<Figure size 432x288 with 1 Axes>"
      ]
     },
     "metadata": {},
     "output_type": "display_data"
    }
   ],
   "source": [
    "plot_acf(data['Mean'],lags=5);"
   ]
  },
  {
   "cell_type": "code",
   "execution_count": 20,
   "metadata": {},
   "outputs": [
    {
     "data": {
      "image/png": "[encoded data removed]",
      "text/plain": [
       "<Figure size 432x288 with 1 Axes>"
      ]
     },
     "metadata": {},
     "output_type": "display_data"
    }
   ],
   "source": [
    "plot_pacf(data['Mean'],lags=5);"
   ]
  },
  {
   "cell_type": "code",
   "execution_count": 21,
   "metadata": {},
   "outputs": [],
   "source": [
    "from statsmodels.tsa.stattools import adfuller\n",
    "result = adfuller(data['Mean'],autolag='AIC')"
   ]
  },
  {
   "cell_type": "code",
   "execution_count": 22,
   "metadata": {},
   "outputs": [
    {
     "data": {
      "text/plain": [
       "(-0.4995472167184225,\n",
       " 0.8921048239299925,\n",
       " 24,\n",
       " 1619,\n",
       " {'1%': -3.434395520959224,\n",
       "  '5%': -2.8633268625511046,\n",
       "  '10%': -2.5677212878453477},\n",
       " -3042.5048877999643)"
      ]
     },
     "execution_count": 22,
     "metadata": {},
     "output_type": "execute_result"
    }
   ],
   "source": [
    "result"
   ]
  },
  {
   "cell_type": "code",
   "execution_count": 23,
   "metadata": {},
   "outputs": [],
   "source": [
    "result = adfuller(data['Mean'].diff(1).dropna(),autolag='AIC')"
   ]
  },
  {
   "cell_type": "code",
   "execution_count": 24,
   "metadata": {},
   "outputs": [
    {
     "data": {
      "text/plain": [
       "(-11.832255570392535,\n",
       " 7.940293414567011e-22,\n",
       " 23,\n",
       " 1619,\n",
       " {'1%': -3.434395520959224,\n",
       "  '5%': -2.8633268625511046,\n",
       "  '10%': -2.5677212878453477},\n",
       " -3041.860129875631)"
      ]
     },
     "execution_count": 24,
     "metadata": {},
     "output_type": "execute_result"
    }
   ],
   "source": [
    "result"
   ]
  },
  {
   "cell_type": "code",
   "execution_count": 25,
   "metadata": {},
   "outputs": [],
   "source": [
    "data.drop(columns='Source',inplace=True)\n",
    "train = data.iloc[:-12]\n",
    "test = data.iloc[-12:]"
   ]
  },
  {
   "cell_type": "code",
   "execution_count": 27,
   "metadata": {},
   "outputs": [
    {
     "name": "stderr",
     "output_type": "stream",
     "text": [
      "/anaconda3/lib/python3.6/site-packages/pmdarima/arima/_auto_solvers.py:207: ModelFitWarning: Unable to fit ARIMA for order=(2, 1, 3); data is likely non-stationary. (if you do not want to see these warnings, run with error_action=\"ignore\")\n",
      "  ModelFitWarning)\n",
      "/anaconda3/lib/python3.6/site-packages/pmdarima/arima/_auto_solvers.py:207: ModelFitWarning: Unable to fit ARIMA for order=(2, 1, 2); data is likely non-stationary. (if you do not want to see these warnings, run with error_action=\"ignore\")\n",
      "  ModelFitWarning)\n",
      "/anaconda3/lib/python3.6/site-packages/pmdarima/arima/_auto_solvers.py:207: ModelFitWarning: Unable to fit ARIMA for order=(1, 1, 4); data is likely non-stationary. (if you do not want to see these warnings, run with error_action=\"ignore\")\n",
      "  ModelFitWarning)\n"
     ]
    },
    {
     "data": {
      "text/html": [
       "<table class=\"simpletable\">\n",
       "<caption>ARIMA Model Results</caption>\n",
       "<tr>\n",
       "  <th>Dep. Variable:</th>        <td>D.y</td>       <th>  No. Observations:  </th>   <td>1643</td>   \n",
       "</tr>\n",
       "<tr>\n",
       "  <th>Model:</th>          <td>ARIMA(1, 1, 3)</td>  <th>  Log Likelihood     </th> <td>1560.759</td> \n",
       "</tr>\n",
       "<tr>\n",
       "  <th>Method:</th>             <td>css-mle</td>     <th>  S.D. of innovations</th>   <td>0.094</td>  \n",
       "</tr>\n",
       "<tr>\n",
       "  <th>Date:</th>          <td>Wed, 15 May 2019</td> <th>  AIC                </th> <td>-3109.519</td>\n",
       "</tr>\n",
       "<tr>\n",
       "  <th>Time:</th>              <td>10:58:45</td>     <th>  BIC                </th> <td>-3077.093</td>\n",
       "</tr>\n",
       "<tr>\n",
       "  <th>Sample:</th>                <td>1</td>        <th>  HQIC               </th> <td>-3097.494</td>\n",
       "</tr>\n",
       "<tr>\n",
       "  <th></th>                       <td> </td>        <th>                     </th>     <td> </td>    \n",
       "</tr>\n",
       "</table>\n",
       "<table class=\"simpletable\">\n",
       "<tr>\n",
       "      <td></td>         <th>coef</th>     <th>std err</th>      <th>z</th>      <th>P>|z|</th>  <th>[0.025</th>    <th>0.975]</th>  \n",
       "</tr>\n",
       "<tr>\n",
       "  <th>const</th>     <td>    0.0006</td> <td>    0.000</td> <td>    2.058</td> <td> 0.040</td> <td> 2.69e-05</td> <td>    0.001</td>\n",
       "</tr>\n",
       "<tr>\n",
       "  <th>ar.L1.D.y</th> <td>    0.8897</td> <td>    0.026</td> <td>   34.371</td> <td> 0.000</td> <td>    0.839</td> <td>    0.940</td>\n",
       "</tr>\n",
       "<tr>\n",
       "  <th>ma.L1.D.y</th> <td>   -1.3690</td> <td>    0.036</td> <td>  -37.750</td> <td> 0.000</td> <td>   -1.440</td> <td>   -1.298</td>\n",
       "</tr>\n",
       "<tr>\n",
       "  <th>ma.L2.D.y</th> <td>    0.3358</td> <td>    0.041</td> <td>    8.124</td> <td> 0.000</td> <td>    0.255</td> <td>    0.417</td>\n",
       "</tr>\n",
       "<tr>\n",
       "  <th>ma.L3.D.y</th> <td>    0.0460</td> <td>    0.028</td> <td>    1.639</td> <td> 0.101</td> <td>   -0.009</td> <td>    0.101</td>\n",
       "</tr>\n",
       "</table>\n",
       "<table class=\"simpletable\">\n",
       "<caption>Roots</caption>\n",
       "<tr>\n",
       "    <td></td>   <th>            Real</th>  <th>         Imaginary</th> <th>         Modulus</th>  <th>        Frequency</th>\n",
       "</tr>\n",
       "<tr>\n",
       "  <th>AR.1</th> <td>           1.1239</td> <td>          +0.0000j</td> <td>           1.1239</td> <td>           0.0000</td>\n",
       "</tr>\n",
       "<tr>\n",
       "  <th>MA.1</th> <td>           1.0234</td> <td>          +0.0000j</td> <td>           1.0234</td> <td>           0.0000</td>\n",
       "</tr>\n",
       "<tr>\n",
       "  <th>MA.2</th> <td>           2.0482</td> <td>          +0.0000j</td> <td>           2.0482</td> <td>           0.0000</td>\n",
       "</tr>\n",
       "<tr>\n",
       "  <th>MA.3</th> <td>         -10.3722</td> <td>          +0.0000j</td> <td>          10.3722</td> <td>           0.5000</td>\n",
       "</tr>\n",
       "</table>"
      ],
      "text/plain": [
       "<class 'statsmodels.iolib.summary.Summary'>\n",
       "\"\"\"\n",
       "                             ARIMA Model Results                              \n",
       "==============================================================================\n",
       "Dep. Variable:                    D.y   No. Observations:                 1643\n",
       "Model:                 ARIMA(1, 1, 3)   Log Likelihood                1560.759\n",
       "Method:                       css-mle   S.D. of innovations              0.094\n",
       "Date:                Wed, 15 May 2019   AIC                          -3109.519\n",
       "Time:                        10:58:45   BIC                          -3077.093\n",
       "Sample:                             1   HQIC                         -3097.494\n",
       "                                                                              \n",
       "==============================================================================\n",
       "                 coef    std err          z      P>|z|      [0.025      0.975]\n",
       "------------------------------------------------------------------------------\n",
       "const          0.0006      0.000      2.058      0.040    2.69e-05       0.001\n",
       "ar.L1.D.y      0.8897      0.026     34.371      0.000       0.839       0.940\n",
       "ma.L1.D.y     -1.3690      0.036    -37.750      0.000      -1.440      -1.298\n",
       "ma.L2.D.y      0.3358      0.041      8.124      0.000       0.255       0.417\n",
       "ma.L3.D.y      0.0460      0.028      1.639      0.101      -0.009       0.101\n",
       "                                    Roots                                    \n",
       "=============================================================================\n",
       "                  Real          Imaginary           Modulus         Frequency\n",
       "-----------------------------------------------------------------------------\n",
       "AR.1            1.1239           +0.0000j            1.1239            0.0000\n",
       "MA.1            1.0234           +0.0000j            1.0234            0.0000\n",
       "MA.2            2.0482           +0.0000j            2.0482            0.0000\n",
       "MA.3          -10.3722           +0.0000j           10.3722            0.5000\n",
       "-----------------------------------------------------------------------------\n",
       "\"\"\""
      ]
     },
     "execution_count": 27,
     "metadata": {},
     "output_type": "execute_result"
    }
   ],
   "source": [
    "from pmdarima import auto_arima\n",
    "stepwise_fit = auto_arima(data['Mean'],start_p=0,start_q=0,max_p=5,max_q=5,seasonal=False)\n",
    "stepwise_fit.summary()\n",
    "\n",
    "# ARIMA results = (1,1,3)"
   ]
  },
  {
   "cell_type": "code",
   "execution_count": 28,
   "metadata": {},
   "outputs": [
    {
     "data": {
      "text/html": [
       "<table class=\"simpletable\">\n",
       "<caption>ARIMA Model Results</caption>\n",
       "<tr>\n",
       "  <th>Dep. Variable:</th>      <td>D.Mean</td>      <th>  No. Observations:  </th>   <td>1631</td>   \n",
       "</tr>\n",
       "<tr>\n",
       "  <th>Model:</th>          <td>ARIMA(1, 1, 3)</td>  <th>  Log Likelihood     </th> <td>1550.423</td> \n",
       "</tr>\n",
       "<tr>\n",
       "  <th>Method:</th>             <td>css-mle</td>     <th>  S.D. of innovations</th>   <td>0.093</td>  \n",
       "</tr>\n",
       "<tr>\n",
       "  <th>Date:</th>          <td>Wed, 15 May 2019</td> <th>  AIC                </th> <td>-3088.845</td>\n",
       "</tr>\n",
       "<tr>\n",
       "  <th>Time:</th>              <td>10:59:01</td>     <th>  BIC                </th> <td>-3056.464</td>\n",
       "</tr>\n",
       "<tr>\n",
       "  <th>Sample:</th>           <td>02-01-1880</td>    <th>  HQIC               </th> <td>-3076.832</td>\n",
       "</tr>\n",
       "<tr>\n",
       "  <th></th>                 <td>- 12-01-2015</td>   <th>                     </th>     <td> </td>    \n",
       "</tr>\n",
       "</table>\n",
       "<table class=\"simpletable\">\n",
       "<tr>\n",
       "        <td></td>          <th>coef</th>     <th>std err</th>      <th>z</th>      <th>P>|z|</th>  <th>[0.025</th>    <th>0.975]</th>  \n",
       "</tr>\n",
       "<tr>\n",
       "  <th>const</th>        <td>    0.0006</td> <td>    0.000</td> <td>    2.043</td> <td> 0.041</td> <td> 2.34e-05</td> <td>    0.001</td>\n",
       "</tr>\n",
       "<tr>\n",
       "  <th>ar.L1.D.Mean</th> <td>    0.8912</td> <td>    0.026</td> <td>   33.868</td> <td> 0.000</td> <td>    0.840</td> <td>    0.943</td>\n",
       "</tr>\n",
       "<tr>\n",
       "  <th>ma.L1.D.Mean</th> <td>   -1.3750</td> <td>    0.037</td> <td>  -37.494</td> <td> 0.000</td> <td>   -1.447</td> <td>   -1.303</td>\n",
       "</tr>\n",
       "<tr>\n",
       "  <th>ma.L2.D.Mean</th> <td>    0.3408</td> <td>    0.042</td> <td>    8.189</td> <td> 0.000</td> <td>    0.259</td> <td>    0.422</td>\n",
       "</tr>\n",
       "<tr>\n",
       "  <th>ma.L3.D.Mean</th> <td>    0.0471</td> <td>    0.028</td> <td>    1.665</td> <td> 0.096</td> <td>   -0.008</td> <td>    0.102</td>\n",
       "</tr>\n",
       "</table>\n",
       "<table class=\"simpletable\">\n",
       "<caption>Roots</caption>\n",
       "<tr>\n",
       "    <td></td>   <th>            Real</th>  <th>         Imaginary</th> <th>         Modulus</th>  <th>        Frequency</th>\n",
       "</tr>\n",
       "<tr>\n",
       "  <th>AR.1</th> <td>           1.1221</td> <td>          +0.0000j</td> <td>           1.1221</td> <td>           0.0000</td>\n",
       "</tr>\n",
       "<tr>\n",
       "  <th>MA.1</th> <td>           1.0238</td> <td>          +0.0000j</td> <td>           1.0238</td> <td>           0.0000</td>\n",
       "</tr>\n",
       "<tr>\n",
       "  <th>MA.2</th> <td>           2.0182</td> <td>          +0.0000j</td> <td>           2.0182</td> <td>           0.0000</td>\n",
       "</tr>\n",
       "<tr>\n",
       "  <th>MA.3</th> <td>         -10.2846</td> <td>          +0.0000j</td> <td>          10.2846</td> <td>           0.5000</td>\n",
       "</tr>\n",
       "</table>"
      ],
      "text/plain": [
       "<class 'statsmodels.iolib.summary.Summary'>\n",
       "\"\"\"\n",
       "                             ARIMA Model Results                              \n",
       "==============================================================================\n",
       "Dep. Variable:                 D.Mean   No. Observations:                 1631\n",
       "Model:                 ARIMA(1, 1, 3)   Log Likelihood                1550.423\n",
       "Method:                       css-mle   S.D. of innovations              0.093\n",
       "Date:                Wed, 15 May 2019   AIC                          -3088.845\n",
       "Time:                        10:59:01   BIC                          -3056.464\n",
       "Sample:                    02-01-1880   HQIC                         -3076.832\n",
       "                         - 12-01-2015                                         \n",
       "================================================================================\n",
       "                   coef    std err          z      P>|z|      [0.025      0.975]\n",
       "--------------------------------------------------------------------------------\n",
       "const            0.0006      0.000      2.043      0.041    2.34e-05       0.001\n",
       "ar.L1.D.Mean     0.8912      0.026     33.868      0.000       0.840       0.943\n",
       "ma.L1.D.Mean    -1.3750      0.037    -37.494      0.000      -1.447      -1.303\n",
       "ma.L2.D.Mean     0.3408      0.042      8.189      0.000       0.259       0.422\n",
       "ma.L3.D.Mean     0.0471      0.028      1.665      0.096      -0.008       0.102\n",
       "                                    Roots                                    \n",
       "=============================================================================\n",
       "                  Real          Imaginary           Modulus         Frequency\n",
       "-----------------------------------------------------------------------------\n",
       "AR.1            1.1221           +0.0000j            1.1221            0.0000\n",
       "MA.1            1.0238           +0.0000j            1.0238            0.0000\n",
       "MA.2            2.0182           +0.0000j            2.0182            0.0000\n",
       "MA.3          -10.2846           +0.0000j           10.2846            0.5000\n",
       "-----------------------------------------------------------------------------\n",
       "\"\"\""
      ]
     },
     "execution_count": 28,
     "metadata": {},
     "output_type": "execute_result"
    }
   ],
   "source": [
    "from statsmodels.tsa.arima_model import ARIMA,ARIMAResults\n",
    "\n",
    "model = ARIMA(train['Mean'],order=(1,1,3))\n",
    "results = model.fit()\n",
    "results.summary()"
   ]
  },
  {
   "cell_type": "code",
   "execution_count": 29,
   "metadata": {},
   "outputs": [],
   "source": [
    "start = len(train)\n",
    "end = len(train)+len(test)-1\n",
    "\n",
    "predictions = results.predict(start=start, end=end, typ='levels').rename('ARIMA Predictions')"
   ]
  },
  {
   "cell_type": "code",
   "execution_count": 30,
   "metadata": {},
   "outputs": [
    {
     "data": {
      "text/plain": [
       "<matplotlib.axes._subplots.AxesSubplot at 0x13296f518>"
      ]
     },
     "execution_count": 30,
     "metadata": {},
     "output_type": "execute_result"
    },
    {
     "data": {
      "image/png": "[encoded data removed]",
      "text/plain": [
       "<Figure size 1080x216 with 1 Axes>"
      ]
     },
     "metadata": {},
     "output_type": "display_data"
    }
   ],
   "source": [
    "test.plot(figsize=(15,3),legend=True)\n",
    "predictions.plot(legend=True)"
   ]
  },
  {
   "cell_type": "code",
   "execution_count": 31,
   "metadata": {},
   "outputs": [
    {
     "data": {
      "text/plain": [
       "Mean    0.936292\n",
       "dtype: float64"
      ]
     },
     "execution_count": 31,
     "metadata": {},
     "output_type": "execute_result"
    }
   ],
   "source": [
    "test.mean()"
   ]
  },
  {
   "cell_type": "code",
   "execution_count": 32,
   "metadata": {},
   "outputs": [
    {
     "data": {
      "text/plain": [
       "0.9147031839305546"
      ]
     },
     "execution_count": 32,
     "metadata": {},
     "output_type": "execute_result"
    }
   ],
   "source": [
    "predictions.mean()"
   ]
  },
  {
   "cell_type": "code",
   "execution_count": 33,
   "metadata": {},
   "outputs": [
    {
     "name": "stdout",
     "output_type": "stream",
     "text": [
      "0.123226566211986\n",
      "0.3832349589356232\n"
     ]
    }
   ],
   "source": [
    "from sklearn.metrics import mean_squared_error, r2_score\n",
    "\n",
    "MSE = mean_squared_error(test, predictions)\n",
    "r2 = r2_score(test, predictions)\n",
    "\n",
    "print(np.sqrt(MSE))\n",
    "print(r2)"
   ]
  },
  {
   "cell_type": "code",
   "execution_count": 34,
   "metadata": {
    "scrolled": true
   },
   "outputs": [
    {
     "name": "stderr",
     "output_type": "stream",
     "text": [
      "/anaconda3/lib/python3.6/site-packages/statsmodels/base/model.py:508: ConvergenceWarning: Maximum Likelihood optimization failed to converge. Check mle_retvals\n",
      "  \"Check mle_retvals\", ConvergenceWarning)\n",
      "/anaconda3/lib/python3.6/site-packages/statsmodels/base/model.py:508: ConvergenceWarning: Maximum Likelihood optimization failed to converge. Check mle_retvals\n",
      "  \"Check mle_retvals\", ConvergenceWarning)\n",
      "/anaconda3/lib/python3.6/site-packages/statsmodels/base/model.py:508: ConvergenceWarning: Maximum Likelihood optimization failed to converge. Check mle_retvals\n",
      "  \"Check mle_retvals\", ConvergenceWarning)\n",
      "/anaconda3/lib/python3.6/site-packages/statsmodels/base/model.py:508: ConvergenceWarning: Maximum Likelihood optimization failed to converge. Check mle_retvals\n",
      "  \"Check mle_retvals\", ConvergenceWarning)\n",
      "/anaconda3/lib/python3.6/site-packages/statsmodels/base/model.py:508: ConvergenceWarning: Maximum Likelihood optimization failed to converge. Check mle_retvals\n",
      "  \"Check mle_retvals\", ConvergenceWarning)\n",
      "/anaconda3/lib/python3.6/site-packages/statsmodels/base/model.py:508: ConvergenceWarning: Maximum Likelihood optimization failed to converge. Check mle_retvals\n",
      "  \"Check mle_retvals\", ConvergenceWarning)\n",
      "/anaconda3/lib/python3.6/site-packages/statsmodels/base/model.py:508: ConvergenceWarning: Maximum Likelihood optimization failed to converge. Check mle_retvals\n",
      "  \"Check mle_retvals\", ConvergenceWarning)\n",
      "/anaconda3/lib/python3.6/site-packages/statsmodels/base/model.py:508: ConvergenceWarning: Maximum Likelihood optimization failed to converge. Check mle_retvals\n",
      "  \"Check mle_retvals\", ConvergenceWarning)\n",
      "/anaconda3/lib/python3.6/site-packages/statsmodels/base/model.py:508: ConvergenceWarning: Maximum Likelihood optimization failed to converge. Check mle_retvals\n",
      "  \"Check mle_retvals\", ConvergenceWarning)\n",
      "/anaconda3/lib/python3.6/site-packages/statsmodels/base/model.py:508: ConvergenceWarning: Maximum Likelihood optimization failed to converge. Check mle_retvals\n",
      "  \"Check mle_retvals\", ConvergenceWarning)\n",
      "/anaconda3/lib/python3.6/site-packages/pmdarima/arima/_auto_solvers.py:207: ModelFitWarning: Unable to fit ARIMA for order=(2, 1, 2) seasonal_order=(1, 0, 1, 12); data is likely non-stationary. (if you do not want to see these warnings, run with error_action=\"ignore\")\n",
      "  ModelFitWarning)\n",
      "/anaconda3/lib/python3.6/site-packages/pmdarima/arima/_auto_solvers.py:207: ModelFitWarning: Unable to fit ARIMA for order=(2, 1, 4) seasonal_order=(1, 0, 1, 12); data is likely non-stationary. (if you do not want to see these warnings, run with error_action=\"ignore\")\n",
      "  ModelFitWarning)\n",
      "/anaconda3/lib/python3.6/site-packages/statsmodels/base/model.py:508: ConvergenceWarning: Maximum Likelihood optimization failed to converge. Check mle_retvals\n",
      "  \"Check mle_retvals\", ConvergenceWarning)\n",
      "/anaconda3/lib/python3.6/site-packages/pmdarima/arima/_auto_solvers.py:207: ModelFitWarning: Unable to fit ARIMA for order=(3, 1, 4) seasonal_order=(1, 0, 1, 12); data is likely non-stationary. (if you do not want to see these warnings, run with error_action=\"ignore\")\n",
      "  ModelFitWarning)\n",
      "/anaconda3/lib/python3.6/site-packages/statsmodels/base/model.py:508: ConvergenceWarning: Maximum Likelihood optimization failed to converge. Check mle_retvals\n",
      "  \"Check mle_retvals\", ConvergenceWarning)\n",
      "/anaconda3/lib/python3.6/site-packages/statsmodels/base/model.py:508: ConvergenceWarning: Maximum Likelihood optimization failed to converge. Check mle_retvals\n",
      "  \"Check mle_retvals\", ConvergenceWarning)\n",
      "/anaconda3/lib/python3.6/site-packages/statsmodels/base/model.py:508: ConvergenceWarning: Maximum Likelihood optimization failed to converge. Check mle_retvals\n",
      "  \"Check mle_retvals\", ConvergenceWarning)\n",
      "/anaconda3/lib/python3.6/site-packages/statsmodels/base/model.py:508: ConvergenceWarning: Maximum Likelihood optimization failed to converge. Check mle_retvals\n",
      "  \"Check mle_retvals\", ConvergenceWarning)\n",
      "/anaconda3/lib/python3.6/site-packages/statsmodels/base/model.py:508: ConvergenceWarning: Maximum Likelihood optimization failed to converge. Check mle_retvals\n",
      "  \"Check mle_retvals\", ConvergenceWarning)\n",
      "/anaconda3/lib/python3.6/site-packages/pmdarima/arima/_auto_solvers.py:207: ModelFitWarning: Unable to fit ARIMA for order=(2, 1, 2) seasonal_order=(2, 0, 1, 12); data is likely non-stationary. (if you do not want to see these warnings, run with error_action=\"ignore\")\n",
      "  ModelFitWarning)\n",
      "/anaconda3/lib/python3.6/site-packages/pmdarima/arima/_auto_solvers.py:207: ModelFitWarning: Unable to fit ARIMA for order=(2, 1, 4) seasonal_order=(2, 0, 1, 12); data is likely non-stationary. (if you do not want to see these warnings, run with error_action=\"ignore\")\n",
      "  ModelFitWarning)\n",
      "/anaconda3/lib/python3.6/site-packages/statsmodels/base/model.py:508: ConvergenceWarning: Maximum Likelihood optimization failed to converge. Check mle_retvals\n",
      "  \"Check mle_retvals\", ConvergenceWarning)\n",
      "/anaconda3/lib/python3.6/site-packages/pmdarima/arima/_auto_solvers.py:207: ModelFitWarning: Unable to fit ARIMA for order=(3, 1, 4) seasonal_order=(2, 0, 1, 12); data is likely non-stationary. (if you do not want to see these warnings, run with error_action=\"ignore\")\n",
      "  ModelFitWarning)\n"
     ]
    },
    {
     "data": {
      "text/html": [
       "<table class=\"simpletable\">\n",
       "<caption>Statespace Model Results</caption>\n",
       "<tr>\n",
       "  <th>Dep. Variable:</th>                  <td>y</td>               <th>  No. Observations:  </th>   <td>1644</td>   \n",
       "</tr>\n",
       "<tr>\n",
       "  <th>Model:</th>           <td>SARIMAX(2, 1, 3)x(2, 0, 1, 12)</td> <th>  Log Likelihood     </th> <td>1563.053</td> \n",
       "</tr>\n",
       "<tr>\n",
       "  <th>Date:</th>                   <td>Wed, 15 May 2019</td>        <th>  AIC                </th> <td>-3106.106</td>\n",
       "</tr>\n",
       "<tr>\n",
       "  <th>Time:</th>                       <td>11:03:39</td>            <th>  BIC                </th> <td>-3052.063</td>\n",
       "</tr>\n",
       "<tr>\n",
       "  <th>Sample:</th>                         <td>0</td>               <th>  HQIC               </th> <td>-3086.065</td>\n",
       "</tr>\n",
       "<tr>\n",
       "  <th></th>                             <td> - 1644</td>            <th>                     </th>     <td> </td>    \n",
       "</tr>\n",
       "<tr>\n",
       "  <th>Covariance Type:</th>               <td>opg</td>              <th>                     </th>     <td> </td>    \n",
       "</tr>\n",
       "</table>\n",
       "<table class=\"simpletable\">\n",
       "<tr>\n",
       "      <td></td>         <th>coef</th>     <th>std err</th>      <th>z</th>      <th>P>|z|</th>  <th>[0.025</th>    <th>0.975]</th>  \n",
       "</tr>\n",
       "<tr>\n",
       "  <th>intercept</th> <td> 3.765e-05</td> <td> 3.83e-05</td> <td>    0.983</td> <td> 0.325</td> <td>-3.74e-05</td> <td>    0.000</td>\n",
       "</tr>\n",
       "<tr>\n",
       "  <th>ar.L1</th>     <td>    0.0013</td> <td>    0.086</td> <td>    0.015</td> <td> 0.988</td> <td>   -0.168</td> <td>    0.170</td>\n",
       "</tr>\n",
       "<tr>\n",
       "  <th>ar.L2</th>     <td>    0.8372</td> <td>    0.076</td> <td>   10.956</td> <td> 0.000</td> <td>    0.687</td> <td>    0.987</td>\n",
       "</tr>\n",
       "<tr>\n",
       "  <th>ma.L1</th>     <td>   -0.4619</td> <td>    0.087</td> <td>   -5.280</td> <td> 0.000</td> <td>   -0.633</td> <td>   -0.290</td>\n",
       "</tr>\n",
       "<tr>\n",
       "  <th>ma.L2</th>     <td>   -0.8931</td> <td>    0.101</td> <td>   -8.873</td> <td> 0.000</td> <td>   -1.090</td> <td>   -0.696</td>\n",
       "</tr>\n",
       "<tr>\n",
       "  <th>ma.L3</th>     <td>    0.3795</td> <td>    0.037</td> <td>   10.383</td> <td> 0.000</td> <td>    0.308</td> <td>    0.451</td>\n",
       "</tr>\n",
       "<tr>\n",
       "  <th>ar.S.L12</th>  <td>    0.4557</td> <td>    0.184</td> <td>    2.477</td> <td> 0.013</td> <td>    0.095</td> <td>    0.816</td>\n",
       "</tr>\n",
       "<tr>\n",
       "  <th>ar.S.L24</th>  <td>    0.0698</td> <td>    0.027</td> <td>    2.613</td> <td> 0.009</td> <td>    0.017</td> <td>    0.122</td>\n",
       "</tr>\n",
       "<tr>\n",
       "  <th>ma.S.L12</th>  <td>   -0.4209</td> <td>    0.183</td> <td>   -2.303</td> <td> 0.021</td> <td>   -0.779</td> <td>   -0.063</td>\n",
       "</tr>\n",
       "<tr>\n",
       "  <th>sigma2</th>    <td>    0.0087</td> <td>    0.000</td> <td>   36.263</td> <td> 0.000</td> <td>    0.008</td> <td>    0.009</td>\n",
       "</tr>\n",
       "</table>\n",
       "<table class=\"simpletable\">\n",
       "<tr>\n",
       "  <th>Ljung-Box (Q):</th>          <td>38.45</td> <th>  Jarque-Bera (JB):  </th> <td>128.35</td>\n",
       "</tr>\n",
       "<tr>\n",
       "  <th>Prob(Q):</th>                <td>0.54</td>  <th>  Prob(JB):          </th>  <td>0.00</td> \n",
       "</tr>\n",
       "<tr>\n",
       "  <th>Heteroskedasticity (H):</th> <td>0.91</td>  <th>  Skew:              </th>  <td>-0.06</td>\n",
       "</tr>\n",
       "<tr>\n",
       "  <th>Prob(H) (two-sided):</th>    <td>0.27</td>  <th>  Kurtosis:          </th>  <td>4.36</td> \n",
       "</tr>\n",
       "</table><br/><br/>Warnings:<br/>[1] Covariance matrix calculated using the outer product of gradients (complex-step)."
      ],
      "text/plain": [
       "<class 'statsmodels.iolib.summary.Summary'>\n",
       "\"\"\"\n",
       "                                 Statespace Model Results                                 \n",
       "==========================================================================================\n",
       "Dep. Variable:                                  y   No. Observations:                 1644\n",
       "Model:             SARIMAX(2, 1, 3)x(2, 0, 1, 12)   Log Likelihood                1563.053\n",
       "Date:                            Wed, 15 May 2019   AIC                          -3106.106\n",
       "Time:                                    11:03:39   BIC                          -3052.063\n",
       "Sample:                                         0   HQIC                         -3086.065\n",
       "                                           - 1644                                         \n",
       "Covariance Type:                              opg                                         \n",
       "==============================================================================\n",
       "                 coef    std err          z      P>|z|      [0.025      0.975]\n",
       "------------------------------------------------------------------------------\n",
       "intercept   3.765e-05   3.83e-05      0.983      0.325   -3.74e-05       0.000\n",
       "ar.L1          0.0013      0.086      0.015      0.988      -0.168       0.170\n",
       "ar.L2          0.8372      0.076     10.956      0.000       0.687       0.987\n",
       "ma.L1         -0.4619      0.087     -5.280      0.000      -0.633      -0.290\n",
       "ma.L2         -0.8931      0.101     -8.873      0.000      -1.090      -0.696\n",
       "ma.L3          0.3795      0.037     10.383      0.000       0.308       0.451\n",
       "ar.S.L12       0.4557      0.184      2.477      0.013       0.095       0.816\n",
       "ar.S.L24       0.0698      0.027      2.613      0.009       0.017       0.122\n",
       "ma.S.L12      -0.4209      0.183     -2.303      0.021      -0.779      -0.063\n",
       "sigma2         0.0087      0.000     36.263      0.000       0.008       0.009\n",
       "===================================================================================\n",
       "Ljung-Box (Q):                       38.45   Jarque-Bera (JB):               128.35\n",
       "Prob(Q):                              0.54   Prob(JB):                         0.00\n",
       "Heteroskedasticity (H):               0.91   Skew:                            -0.06\n",
       "Prob(H) (two-sided):                  0.27   Kurtosis:                         4.36\n",
       "===================================================================================\n",
       "\n",
       "Warnings:\n",
       "[1] Covariance matrix calculated using the outer product of gradients (complex-step).\n",
       "\"\"\""
      ]
     },
     "execution_count": 34,
     "metadata": {},
     "output_type": "execute_result"
    }
   ],
   "source": [
    "from pmdarima import auto_arima\n",
    "stepwise_fit = auto_arima(data['Mean'],start_p=0,start_q=0,max_p=5,max_q=5,seasonal=True,m=12)\n",
    "stepwise_fit.summary()\n",
    "\n",
    "# SARIMA results = (1,1,2)(0,0,2,12)"
   ]
  },
  {
   "cell_type": "code",
   "execution_count": 35,
   "metadata": {},
   "outputs": [
    {
     "name": "stderr",
     "output_type": "stream",
     "text": [
      "/anaconda3/lib/python3.6/site-packages/statsmodels/base/model.py:508: ConvergenceWarning: Maximum Likelihood optimization failed to converge. Check mle_retvals\n",
      "  \"Check mle_retvals\", ConvergenceWarning)\n"
     ]
    }
   ],
   "source": [
    "from statsmodels.tsa.statespace.sarimax import SARIMAX\n",
    "model = SARIMAX(train['Mean'],order=(2,1,3),seasonal_order=(2,0,1,12))\n",
    "results = model.fit()"
   ]
  },
  {
   "cell_type": "code",
   "execution_count": 36,
   "metadata": {},
   "outputs": [],
   "source": [
    "start = len(train)\n",
    "end = len(train)+len(test)-1\n",
    "\n",
    "predictions = results.predict(start=start, end=end, typ='levels').rename('SARIMA Predictions')"
   ]
  },
  {
   "cell_type": "code",
   "execution_count": 37,
   "metadata": {},
   "outputs": [
    {
     "data": {
      "text/plain": [
       "<matplotlib.axes._subplots.AxesSubplot at 0x1720dc2b0>"
      ]
     },
     "execution_count": 37,
     "metadata": {},
     "output_type": "execute_result"
    },
    {
     "data": {
      "image/png": "[encoded data removed]",
      "text/plain": [
       "<Figure size 1080x216 with 1 Axes>"
      ]
     },
     "metadata": {},
     "output_type": "display_data"
    }
   ],
   "source": [
    "test.plot(figsize=(15,3),legend=True)\n",
    "predictions.plot(legend=True)"
   ]
  },
  {
   "cell_type": "code",
   "execution_count": 38,
   "metadata": {},
   "outputs": [
    {
     "name": "stdout",
     "output_type": "stream",
     "text": [
      "0.12461538449037077\n",
      "0.36925418226757367\n"
     ]
    }
   ],
   "source": [
    "from sklearn.metrics import mean_squared_error, r2_score\n",
    "\n",
    "MSE = mean_squared_error(test, predictions)\n",
    "r2 = r2_score(test, predictions)\n",
    "\n",
    "print(np.sqrt(MSE))\n",
    "print(r2)"
   ]
  },
  {
   "cell_type": "markdown",
   "metadata": {},
   "source": [
    "## LSTM"
   ]
  },
  {
   "cell_type": "code",
   "execution_count": 55,
   "metadata": {},
   "outputs": [],
   "source": [
    "from sklearn.preprocessing import StandardScaler\n",
    "\n",
    "sc = StandardScaler()\n",
    "sc.fit(train)\n",
    "\n",
    "train_sc = sc.transform(train)\n",
    "test_sc = sc.transform(test)\n",
    "\n",
    "X_train = train_sc[:-1]\n",
    "y_train = train_sc[1:]\n",
    "\n",
    "X_test = test_sc[:-1]\n",
    "y_test = test_sc[1:]"
   ]
  },
  {
   "cell_type": "code",
   "execution_count": 56,
   "metadata": {},
   "outputs": [
    {
     "data": {
      "text/plain": [
       "(1631, 1)"
      ]
     },
     "execution_count": 56,
     "metadata": {},
     "output_type": "execute_result"
    }
   ],
   "source": [
    "X_train.shape"
   ]
  },
  {
   "cell_type": "code",
   "execution_count": 58,
   "metadata": {},
   "outputs": [],
   "source": [
    "X_train_t = X_train[:,None]\n",
    "X_test_t = X_test[:,None]"
   ]
  },
  {
   "cell_type": "code",
   "execution_count": 59,
   "metadata": {},
   "outputs": [
    {
     "data": {
      "text/plain": [
       "(1631, 1, 1)"
      ]
     },
     "execution_count": 59,
     "metadata": {},
     "output_type": "execute_result"
    }
   ],
   "source": [
    "X_train_t.shape"
   ]
  },
  {
   "cell_type": "code",
   "execution_count": 60,
   "metadata": {
    "scrolled": true
   },
   "outputs": [],
   "source": [
    "from keras.models import Sequential\n",
    "from keras.layers import Dense, LSTM\n",
    "from keras.optimizers import Adam\n",
    "import keras.backend as K"
   ]
  },
  {
   "cell_type": "code",
   "execution_count": 64,
   "metadata": {},
   "outputs": [
    {
     "name": "stdout",
     "output_type": "stream",
     "text": [
      "Train on 1631 samples, validate on 11 samples\n",
      "Epoch 1/200\n",
      "1631/1631 [==============================] - 1s 534us/step - loss: 1.0062 - val_loss: 8.1564\n",
      "Epoch 2/200\n",
      "1631/1631 [==============================] - 0s 80us/step - loss: 0.9062 - val_loss: 7.1272\n",
      "Epoch 3/200\n",
      "1631/1631 [==============================] - 0s 88us/step - loss: 0.7829 - val_loss: 5.9224\n",
      "Epoch 4/200\n",
      "1631/1631 [==============================] - 0s 79us/step - loss: 0.6333 - val_loss: 4.3501\n",
      "Epoch 5/200\n",
      "1631/1631 [==============================] - 0s 78us/step - loss: 0.4675 - val_loss: 2.6891\n",
      "Epoch 6/200\n",
      "1631/1631 [==============================] - 0s 81us/step - loss: 0.3121 - val_loss: 1.2906\n",
      "Epoch 7/200\n",
      "1631/1631 [==============================] - 0s 80us/step - loss: 0.1960 - val_loss: 0.4579\n",
      "Epoch 8/200\n",
      "1631/1631 [==============================] - 0s 81us/step - loss: 0.1347 - val_loss: 0.1578\n",
      "Epoch 9/200\n",
      "1631/1631 [==============================] - 0s 81us/step - loss: 0.1124 - val_loss: 0.1573\n",
      "Epoch 10/200\n",
      "1631/1631 [==============================] - 0s 80us/step - loss: 0.1069 - val_loss: 0.2065\n",
      "Epoch 11/200\n",
      "1631/1631 [==============================] - 0s 80us/step - loss: 0.1058 - val_loss: 0.2421\n",
      "Epoch 12/200\n",
      "1631/1631 [==============================] - 0s 81us/step - loss: 0.1054 - val_loss: 0.2518\n",
      "Epoch 13/200\n",
      "1631/1631 [==============================] - 0s 82us/step - loss: 0.1052 - val_loss: 0.2509\n",
      "Epoch 14/200\n",
      "1631/1631 [==============================] - 0s 80us/step - loss: 0.1050 - val_loss: 0.2729\n",
      "Epoch 15/200\n",
      "1631/1631 [==============================] - 0s 84us/step - loss: 0.1048 - val_loss: 0.2660\n",
      "Epoch 16/200\n",
      "1631/1631 [==============================] - 0s 86us/step - loss: 0.1049 - val_loss: 0.2783\n",
      "Epoch 17/200\n",
      "1631/1631 [==============================] - 0s 83us/step - loss: 0.1047 - val_loss: 0.2721\n",
      "Epoch 18/200\n",
      "1631/1631 [==============================] - 0s 82us/step - loss: 0.1048 - val_loss: 0.2676\n",
      "Epoch 19/200\n",
      "1631/1631 [==============================] - 0s 94us/step - loss: 0.1047 - val_loss: 0.2828\n",
      "Epoch 20/200\n",
      "1631/1631 [==============================] - 0s 94us/step - loss: 0.1046 - val_loss: 0.2793\n",
      "Epoch 21/200\n",
      "1631/1631 [==============================] - 0s 98us/step - loss: 0.1046 - val_loss: 0.2677\n",
      "Epoch 22/200\n",
      "1631/1631 [==============================] - 0s 93us/step - loss: 0.1046 - val_loss: 0.2784\n",
      "Epoch 23/200\n",
      "1631/1631 [==============================] - 0s 93us/step - loss: 0.1046 - val_loss: 0.2565\n",
      "Epoch 24/200\n",
      "1631/1631 [==============================] - 0s 86us/step - loss: 0.1045 - val_loss: 0.2739\n",
      "Epoch 25/200\n",
      "1631/1631 [==============================] - 0s 92us/step - loss: 0.1046 - val_loss: 0.2662\n",
      "Epoch 26/200\n",
      "1631/1631 [==============================] - 0s 97us/step - loss: 0.1045 - val_loss: 0.2601\n",
      "Epoch 27/200\n",
      "1631/1631 [==============================] - 0s 92us/step - loss: 0.1044 - val_loss: 0.2574\n",
      "Epoch 28/200\n",
      "1631/1631 [==============================] - 0s 84us/step - loss: 0.1044 - val_loss: 0.2587\n",
      "Epoch 29/200\n",
      "1631/1631 [==============================] - 0s 84us/step - loss: 0.1044 - val_loss: 0.2587\n",
      "Epoch 30/200\n",
      "1631/1631 [==============================] - 0s 85us/step - loss: 0.1044 - val_loss: 0.2400\n",
      "Epoch 31/200\n",
      "1631/1631 [==============================] - 0s 80us/step - loss: 0.1044 - val_loss: 0.2585\n",
      "Epoch 32/200\n",
      "1631/1631 [==============================] - 0s 74us/step - loss: 0.1044 - val_loss: 0.2451\n",
      "Epoch 33/200\n",
      "1631/1631 [==============================] - 0s 71us/step - loss: 0.1043 - val_loss: 0.2448\n",
      "Epoch 34/200\n",
      "1631/1631 [==============================] - 0s 72us/step - loss: 0.1043 - val_loss: 0.2385\n",
      "Epoch 35/200\n",
      "1631/1631 [==============================] - 0s 74us/step - loss: 0.1042 - val_loss: 0.2384\n",
      "Epoch 36/200\n",
      "1631/1631 [==============================] - 0s 79us/step - loss: 0.1043 - val_loss: 0.2449\n",
      "Epoch 37/200\n",
      "1631/1631 [==============================] - 0s 86us/step - loss: 0.1042 - val_loss: 0.2374\n",
      "Epoch 38/200\n",
      "1631/1631 [==============================] - 0s 82us/step - loss: 0.1043 - val_loss: 0.2297\n",
      "Epoch 39/200\n",
      "1631/1631 [==============================] - 0s 75us/step - loss: 0.1043 - val_loss: 0.2257\n",
      "Epoch 40/200\n",
      "1631/1631 [==============================] - 0s 79us/step - loss: 0.1042 - val_loss: 0.2217\n",
      "Epoch 41/200\n",
      "1631/1631 [==============================] - 0s 83us/step - loss: 0.1041 - val_loss: 0.2231\n",
      "Epoch 42/200\n",
      "1631/1631 [==============================] - 0s 90us/step - loss: 0.1042 - val_loss: 0.2193\n",
      "Epoch 43/200\n",
      "1631/1631 [==============================] - 0s 89us/step - loss: 0.1041 - val_loss: 0.2249\n",
      "Epoch 44/200\n",
      "1631/1631 [==============================] - 0s 82us/step - loss: 0.1043 - val_loss: 0.2101\n",
      "Epoch 45/200\n",
      "1631/1631 [==============================] - 0s 80us/step - loss: 0.1042 - val_loss: 0.1890\n",
      "Epoch 46/200\n",
      "1631/1631 [==============================] - 0s 75us/step - loss: 0.1040 - val_loss: 0.2319\n",
      "Epoch 47/200\n",
      "1631/1631 [==============================] - 0s 77us/step - loss: 0.1041 - val_loss: 0.2037\n",
      "Epoch 48/200\n",
      "1631/1631 [==============================] - 0s 78us/step - loss: 0.1041 - val_loss: 0.1915\n",
      "Epoch 49/200\n",
      "1631/1631 [==============================] - 0s 82us/step - loss: 0.1040 - val_loss: 0.2012\n",
      "Epoch 50/200\n",
      "1631/1631 [==============================] - 0s 84us/step - loss: 0.1040 - val_loss: 0.1959\n",
      "Epoch 51/200\n",
      "1631/1631 [==============================] - 0s 88us/step - loss: 0.1041 - val_loss: 0.2025\n",
      "Epoch 52/200\n",
      "1631/1631 [==============================] - 0s 87us/step - loss: 0.1040 - val_loss: 0.1945\n",
      "Epoch 53/200\n",
      "1631/1631 [==============================] - 0s 84us/step - loss: 0.1039 - val_loss: 0.2070\n",
      "Epoch 54/200\n",
      "1631/1631 [==============================] - 0s 88us/step - loss: 0.1039 - val_loss: 0.1840\n",
      "Epoch 55/200\n",
      "1631/1631 [==============================] - 0s 79us/step - loss: 0.1039 - val_loss: 0.2001\n",
      "Epoch 56/200\n",
      "1631/1631 [==============================] - 0s 76us/step - loss: 0.1039 - val_loss: 0.1788\n",
      "Epoch 57/200\n",
      "1631/1631 [==============================] - 0s 76us/step - loss: 0.1040 - val_loss: 0.1812\n",
      "Epoch 58/200\n",
      "1631/1631 [==============================] - 0s 78us/step - loss: 0.1039 - val_loss: 0.1858\n",
      "Epoch 59/200\n",
      "1631/1631 [==============================] - 0s 77us/step - loss: 0.1039 - val_loss: 0.1887\n",
      "Epoch 60/200\n",
      "1631/1631 [==============================] - 0s 79us/step - loss: 0.1038 - val_loss: 0.1961\n",
      "Epoch 61/200\n",
      "1631/1631 [==============================] - 0s 86us/step - loss: 0.1037 - val_loss: 0.1795\n",
      "Epoch 62/200\n",
      "1631/1631 [==============================] - 0s 86us/step - loss: 0.1039 - val_loss: 0.1805\n",
      "Epoch 63/200\n",
      "1631/1631 [==============================] - 0s 81us/step - loss: 0.1037 - val_loss: 0.1723\n",
      "Epoch 64/200\n",
      "1631/1631 [==============================] - 0s 79us/step - loss: 0.1038 - val_loss: 0.1742\n",
      "Epoch 65/200\n",
      "1631/1631 [==============================] - 0s 77us/step - loss: 0.1042 - val_loss: 0.1605\n",
      "Epoch 66/200\n",
      "1631/1631 [==============================] - 0s 76us/step - loss: 0.1040 - val_loss: 0.1978\n",
      "Epoch 67/200\n",
      "1631/1631 [==============================] - 0s 72us/step - loss: 0.1038 - val_loss: 0.1688\n",
      "Epoch 68/200\n",
      "1631/1631 [==============================] - 0s 71us/step - loss: 0.1038 - val_loss: 0.1752\n",
      "Epoch 69/200\n",
      "1631/1631 [==============================] - 0s 72us/step - loss: 0.1037 - val_loss: 0.1625\n",
      "Epoch 70/200\n",
      "1631/1631 [==============================] - 0s 72us/step - loss: 0.1037 - val_loss: 0.1607\n",
      "Epoch 71/200\n",
      "1631/1631 [==============================] - 0s 72us/step - loss: 0.1039 - val_loss: 0.1529\n",
      "Epoch 72/200\n",
      "1631/1631 [==============================] - 0s 72us/step - loss: 0.1036 - val_loss: 0.1737\n",
      "Epoch 73/200\n",
      "1631/1631 [==============================] - 0s 70us/step - loss: 0.1037 - val_loss: 0.1681\n",
      "Epoch 74/200\n",
      "1631/1631 [==============================] - 0s 68us/step - loss: 0.1037 - val_loss: 0.1620\n",
      "Epoch 75/200\n",
      "1631/1631 [==============================] - 0s 67us/step - loss: 0.1036 - val_loss: 0.1568\n",
      "Epoch 76/200\n",
      "1631/1631 [==============================] - 0s 70us/step - loss: 0.1038 - val_loss: 0.1498\n",
      "Epoch 77/200\n",
      "1631/1631 [==============================] - 0s 68us/step - loss: 0.1036 - val_loss: 0.1603\n",
      "Epoch 78/200\n"
     ]
    },
    {
     "name": "stdout",
     "output_type": "stream",
     "text": [
      "1631/1631 [==============================] - 0s 72us/step - loss: 0.1037 - val_loss: 0.1635\n",
      "Epoch 79/200\n",
      "1631/1631 [==============================] - 0s 74us/step - loss: 0.1036 - val_loss: 0.1519\n",
      "Epoch 80/200\n",
      "1631/1631 [==============================] - 0s 79us/step - loss: 0.1036 - val_loss: 0.1502\n",
      "Epoch 81/200\n",
      "1631/1631 [==============================] - 0s 76us/step - loss: 0.1036 - val_loss: 0.1487\n",
      "Epoch 82/200\n",
      "1631/1631 [==============================] - 0s 74us/step - loss: 0.1038 - val_loss: 0.1385\n",
      "Epoch 83/200\n",
      "1631/1631 [==============================] - 0s 76us/step - loss: 0.1036 - val_loss: 0.1485\n",
      "Epoch 84/200\n",
      "1631/1631 [==============================] - 0s 77us/step - loss: 0.1035 - val_loss: 0.1632\n",
      "Epoch 85/200\n",
      "1631/1631 [==============================] - 0s 80us/step - loss: 0.1036 - val_loss: 0.1525\n",
      "Epoch 86/200\n",
      "1631/1631 [==============================] - 0s 80us/step - loss: 0.1036 - val_loss: 0.1505\n",
      "Epoch 87/200\n",
      "1631/1631 [==============================] - 0s 81us/step - loss: 0.1035 - val_loss: 0.1518\n",
      "Epoch 88/200\n",
      "1631/1631 [==============================] - 0s 74us/step - loss: 0.1036 - val_loss: 0.1424\n",
      "Epoch 89/200\n",
      "1631/1631 [==============================] - 0s 77us/step - loss: 0.1037 - val_loss: 0.1441\n",
      "Epoch 90/200\n",
      "1631/1631 [==============================] - 0s 74us/step - loss: 0.1036 - val_loss: 0.1414\n",
      "Epoch 91/200\n",
      "1631/1631 [==============================] - 0s 71us/step - loss: 0.1035 - val_loss: 0.1605\n",
      "Epoch 92/200\n",
      "1631/1631 [==============================] - 0s 72us/step - loss: 0.1037 - val_loss: 0.1280\n",
      "Epoch 93/200\n",
      "1631/1631 [==============================] - 0s 76us/step - loss: 0.1036 - val_loss: 0.1544\n",
      "Epoch 94/200\n",
      "1631/1631 [==============================] - 0s 77us/step - loss: 0.1037 - val_loss: 0.1435\n",
      "Epoch 95/200\n",
      "1631/1631 [==============================] - 0s 78us/step - loss: 0.1036 - val_loss: 0.1442\n",
      "Epoch 96/200\n",
      "1631/1631 [==============================] - 0s 81us/step - loss: 0.1036 - val_loss: 0.1550\n",
      "Epoch 97/200\n",
      "1631/1631 [==============================] - 0s 78us/step - loss: 0.1037 - val_loss: 0.1416\n",
      "Epoch 98/200\n",
      "1631/1631 [==============================] - 0s 79us/step - loss: 0.1034 - val_loss: 0.1488\n",
      "Epoch 99/200\n",
      "1631/1631 [==============================] - 0s 79us/step - loss: 0.1036 - val_loss: 0.1507\n",
      "Epoch 100/200\n",
      "1631/1631 [==============================] - 0s 79us/step - loss: 0.1036 - val_loss: 0.1351\n",
      "Epoch 101/200\n",
      "1631/1631 [==============================] - 0s 79us/step - loss: 0.1037 - val_loss: 0.1324\n",
      "Epoch 102/200\n",
      "1631/1631 [==============================] - 0s 80us/step - loss: 0.1036 - val_loss: 0.1290\n",
      "Epoch 103/200\n",
      "1631/1631 [==============================] - 0s 79us/step - loss: 0.1036 - val_loss: 0.1329\n",
      "Epoch 104/200\n",
      "1631/1631 [==============================] - 0s 78us/step - loss: 0.1034 - val_loss: 0.1366\n",
      "Epoch 105/200\n",
      "1631/1631 [==============================] - 0s 74us/step - loss: 0.1034 - val_loss: 0.1376\n",
      "Epoch 106/200\n",
      "1631/1631 [==============================] - 0s 76us/step - loss: 0.1034 - val_loss: 0.1313\n",
      "Epoch 107/200\n",
      "1631/1631 [==============================] - 0s 73us/step - loss: 0.1035 - val_loss: 0.1272\n",
      "Epoch 108/200\n",
      "1631/1631 [==============================] - 0s 77us/step - loss: 0.1035 - val_loss: 0.1263\n",
      "Epoch 109/200\n",
      "1631/1631 [==============================] - 0s 80us/step - loss: 0.1037 - val_loss: 0.1321\n",
      "Epoch 110/200\n",
      "1631/1631 [==============================] - 0s 84us/step - loss: 0.1036 - val_loss: 0.1252\n",
      "Epoch 111/200\n",
      "1631/1631 [==============================] - 0s 80us/step - loss: 0.1034 - val_loss: 0.1345\n",
      "Epoch 112/200\n",
      "1631/1631 [==============================] - 0s 80us/step - loss: 0.1034 - val_loss: 0.1239\n",
      "Epoch 113/200\n",
      "1631/1631 [==============================] - 0s 80us/step - loss: 0.1036 - val_loss: 0.1337\n",
      "Epoch 114/200\n",
      "1631/1631 [==============================] - 0s 80us/step - loss: 0.1034 - val_loss: 0.1284\n",
      "Epoch 115/200\n",
      "1631/1631 [==============================] - 0s 80us/step - loss: 0.1038 - val_loss: 0.1255\n",
      "Epoch 116/200\n",
      "1631/1631 [==============================] - 0s 81us/step - loss: 0.1034 - val_loss: 0.1233\n",
      "Epoch 117/200\n",
      "1631/1631 [==============================] - 0s 80us/step - loss: 0.1035 - val_loss: 0.1322\n",
      "Epoch 118/200\n",
      "1631/1631 [==============================] - 0s 74us/step - loss: 0.1034 - val_loss: 0.1265\n",
      "Epoch 119/200\n",
      "1631/1631 [==============================] - 0s 72us/step - loss: 0.1034 - val_loss: 0.1317\n",
      "Epoch 120/200\n",
      "1631/1631 [==============================] - 0s 72us/step - loss: 0.1034 - val_loss: 0.1269\n",
      "Epoch 121/200\n",
      "1631/1631 [==============================] - 0s 74us/step - loss: 0.1035 - val_loss: 0.1189\n",
      "Epoch 122/200\n",
      "1631/1631 [==============================] - 0s 78us/step - loss: 0.1036 - val_loss: 0.1203\n",
      "Epoch 123/200\n",
      "1631/1631 [==============================] - 0s 79us/step - loss: 0.1036 - val_loss: 0.1287\n",
      "Epoch 124/200\n",
      "1631/1631 [==============================] - 0s 74us/step - loss: 0.1035 - val_loss: 0.1285\n",
      "Epoch 125/200\n",
      "1631/1631 [==============================] - 0s 73us/step - loss: 0.1033 - val_loss: 0.1214\n",
      "Epoch 126/200\n",
      "1631/1631 [==============================] - 0s 71us/step - loss: 0.1033 - val_loss: 0.1223\n",
      "Epoch 127/200\n",
      "1631/1631 [==============================] - 0s 72us/step - loss: 0.1034 - val_loss: 0.1255\n",
      "Epoch 128/200\n",
      "1631/1631 [==============================] - 0s 78us/step - loss: 0.1035 - val_loss: 0.1244\n",
      "Epoch 129/200\n",
      "1631/1631 [==============================] - 0s 79us/step - loss: 0.1034 - val_loss: 0.1224\n",
      "Epoch 130/200\n",
      "1631/1631 [==============================] - 0s 81us/step - loss: 0.1033 - val_loss: 0.1168\n",
      "Epoch 131/200\n",
      "1631/1631 [==============================] - 0s 80us/step - loss: 0.1033 - val_loss: 0.1161\n",
      "Epoch 132/200\n",
      "1631/1631 [==============================] - 0s 76us/step - loss: 0.1033 - val_loss: 0.1192\n",
      "Epoch 133/200\n",
      "1631/1631 [==============================] - 0s 72us/step - loss: 0.1034 - val_loss: 0.1147\n",
      "Epoch 134/200\n",
      "1631/1631 [==============================] - 0s 72us/step - loss: 0.1035 - val_loss: 0.1134\n",
      "Epoch 135/200\n",
      "1631/1631 [==============================] - 0s 71us/step - loss: 0.1033 - val_loss: 0.1132\n",
      "Epoch 136/200\n",
      "1631/1631 [==============================] - 0s 71us/step - loss: 0.1032 - val_loss: 0.1142\n",
      "Epoch 137/200\n",
      "1631/1631 [==============================] - 0s 73us/step - loss: 0.1034 - val_loss: 0.1146\n",
      "Epoch 138/200\n",
      "1631/1631 [==============================] - 0s 78us/step - loss: 0.1034 - val_loss: 0.1137\n",
      "Epoch 139/200\n",
      "1631/1631 [==============================] - 0s 79us/step - loss: 0.1034 - val_loss: 0.1172\n",
      "Epoch 140/200\n",
      "1631/1631 [==============================] - 0s 82us/step - loss: 0.1034 - val_loss: 0.1137\n",
      "Epoch 141/200\n",
      "1631/1631 [==============================] - 0s 80us/step - loss: 0.1033 - val_loss: 0.1100\n",
      "Epoch 142/200\n",
      "1631/1631 [==============================] - 0s 80us/step - loss: 0.1034 - val_loss: 0.1184\n",
      "Epoch 143/200\n",
      "1631/1631 [==============================] - 0s 80us/step - loss: 0.1033 - val_loss: 0.1142\n",
      "Epoch 144/200\n",
      "1631/1631 [==============================] - 0s 82us/step - loss: 0.1033 - val_loss: 0.1073\n",
      "Epoch 145/200\n",
      "1631/1631 [==============================] - 0s 79us/step - loss: 0.1033 - val_loss: 0.1152\n",
      "Epoch 146/200\n",
      "1631/1631 [==============================] - 0s 74us/step - loss: 0.1033 - val_loss: 0.1097\n",
      "Epoch 147/200\n",
      "1631/1631 [==============================] - 0s 75us/step - loss: 0.1035 - val_loss: 0.1075\n",
      "Epoch 148/200\n",
      "1631/1631 [==============================] - 0s 77us/step - loss: 0.1033 - val_loss: 0.1112\n",
      "Epoch 149/200\n",
      "1631/1631 [==============================] - 0s 79us/step - loss: 0.1034 - val_loss: 0.1075\n",
      "Epoch 150/200\n",
      "1631/1631 [==============================] - 0s 82us/step - loss: 0.1033 - val_loss: 0.1098\n",
      "Epoch 151/200\n",
      "1631/1631 [==============================] - 0s 77us/step - loss: 0.1032 - val_loss: 0.1064\n",
      "Epoch 152/200\n",
      "1631/1631 [==============================] - 0s 72us/step - loss: 0.1033 - val_loss: 0.1072\n",
      "Epoch 153/200\n",
      "1631/1631 [==============================] - 0s 71us/step - loss: 0.1031 - val_loss: 0.1112\n",
      "Epoch 154/200\n",
      "1631/1631 [==============================] - 0s 73us/step - loss: 0.1032 - val_loss: 0.1133\n",
      "Epoch 155/200\n"
     ]
    },
    {
     "name": "stdout",
     "output_type": "stream",
     "text": [
      "1631/1631 [==============================] - 0s 79us/step - loss: 0.1034 - val_loss: 0.1126\n",
      "Epoch 156/200\n",
      "1631/1631 [==============================] - 0s 75us/step - loss: 0.1034 - val_loss: 0.1120\n",
      "Epoch 157/200\n",
      "1631/1631 [==============================] - 0s 73us/step - loss: 0.1033 - val_loss: 0.1117\n",
      "Epoch 158/200\n",
      "1631/1631 [==============================] - 0s 75us/step - loss: 0.1033 - val_loss: 0.1044\n",
      "Epoch 159/200\n",
      "1631/1631 [==============================] - 0s 75us/step - loss: 0.1032 - val_loss: 0.1084\n",
      "Epoch 160/200\n",
      "1631/1631 [==============================] - 0s 78us/step - loss: 0.1033 - val_loss: 0.1127\n",
      "Epoch 161/200\n",
      "1631/1631 [==============================] - 0s 78us/step - loss: 0.1034 - val_loss: 0.1140\n",
      "Epoch 162/200\n",
      "1631/1631 [==============================] - 0s 81us/step - loss: 0.1031 - val_loss: 0.1045\n",
      "Epoch 163/200\n",
      "1631/1631 [==============================] - 0s 80us/step - loss: 0.1033 - val_loss: 0.1114\n",
      "Epoch 164/200\n",
      "1631/1631 [==============================] - 0s 82us/step - loss: 0.1032 - val_loss: 0.1052\n",
      "Epoch 165/200\n",
      "1631/1631 [==============================] - 0s 80us/step - loss: 0.1033 - val_loss: 0.1056\n",
      "Epoch 166/200\n",
      "1631/1631 [==============================] - 0s 80us/step - loss: 0.1035 - val_loss: 0.1074\n",
      "Epoch 167/200\n",
      "1631/1631 [==============================] - 0s 75us/step - loss: 0.1032 - val_loss: 0.1062\n",
      "Epoch 168/200\n",
      "1631/1631 [==============================] - 0s 75us/step - loss: 0.1032 - val_loss: 0.1034\n",
      "Epoch 169/200\n",
      "1631/1631 [==============================] - 0s 77us/step - loss: 0.1031 - val_loss: 0.1039\n",
      "Epoch 170/200\n",
      "1631/1631 [==============================] - 0s 81us/step - loss: 0.1032 - val_loss: 0.1057\n",
      "Epoch 171/200\n",
      "1631/1631 [==============================] - 0s 81us/step - loss: 0.1031 - val_loss: 0.1029\n",
      "Epoch 172/200\n",
      "1631/1631 [==============================] - 0s 81us/step - loss: 0.1032 - val_loss: 0.1041\n",
      "Epoch 173/200\n",
      "1631/1631 [==============================] - 0s 76us/step - loss: 0.1031 - val_loss: 0.1028\n",
      "Epoch 174/200\n",
      "1631/1631 [==============================] - 0s 75us/step - loss: 0.1031 - val_loss: 0.1034\n",
      "Epoch 175/200\n",
      "1631/1631 [==============================] - 0s 72us/step - loss: 0.1032 - val_loss: 0.1021\n",
      "Epoch 176/200\n",
      "1631/1631 [==============================] - 0s 74us/step - loss: 0.1032 - val_loss: 0.1071\n",
      "Epoch 177/200\n",
      "1631/1631 [==============================] - 0s 73us/step - loss: 0.1031 - val_loss: 0.1040\n",
      "Epoch 178/200\n",
      "1631/1631 [==============================] - 0s 75us/step - loss: 0.1032 - val_loss: 0.1052\n",
      "Epoch 179/200\n",
      "1631/1631 [==============================] - 0s 73us/step - loss: 0.1031 - val_loss: 0.1016\n",
      "Epoch 180/200\n",
      "1631/1631 [==============================] - 0s 71us/step - loss: 0.1033 - val_loss: 0.1039\n",
      "Epoch 181/200\n",
      "1631/1631 [==============================] - 0s 71us/step - loss: 0.1031 - val_loss: 0.1034\n",
      "Epoch 182/200\n",
      "1631/1631 [==============================] - 0s 72us/step - loss: 0.1032 - val_loss: 0.1019\n",
      "Epoch 183/200\n",
      "1631/1631 [==============================] - 0s 73us/step - loss: 0.1031 - val_loss: 0.1017\n",
      "Epoch 184/200\n",
      "1631/1631 [==============================] - 0s 76us/step - loss: 0.1031 - val_loss: 0.1012\n",
      "Epoch 185/200\n",
      "1631/1631 [==============================] - 0s 77us/step - loss: 0.1031 - val_loss: 0.1008\n",
      "Epoch 186/200\n",
      "1631/1631 [==============================] - 0s 77us/step - loss: 0.1031 - val_loss: 0.1021\n",
      "Epoch 187/200\n",
      "1631/1631 [==============================] - 0s 74us/step - loss: 0.1031 - val_loss: 0.1009\n",
      "Epoch 188/200\n",
      "1631/1631 [==============================] - 0s 72us/step - loss: 0.1031 - val_loss: 0.1011\n",
      "Epoch 189/200\n",
      "1631/1631 [==============================] - 0s 72us/step - loss: 0.1031 - val_loss: 0.1006\n",
      "Epoch 190/200\n",
      "1631/1631 [==============================] - 0s 76us/step - loss: 0.1035 - val_loss: 0.1007\n",
      "Epoch 191/200\n",
      "1631/1631 [==============================] - 0s 79us/step - loss: 0.1031 - val_loss: 0.1000\n",
      "Epoch 192/200\n",
      "1631/1631 [==============================] - 0s 82us/step - loss: 0.1031 - val_loss: 0.1009\n",
      "Epoch 193/200\n",
      "1631/1631 [==============================] - 0s 81us/step - loss: 0.1032 - val_loss: 0.1011\n",
      "Epoch 194/200\n",
      "1631/1631 [==============================] - 0s 75us/step - loss: 0.1032 - val_loss: 0.1022\n",
      "Epoch 195/200\n",
      "1631/1631 [==============================] - 0s 70us/step - loss: 0.1031 - val_loss: 0.1004\n",
      "Epoch 196/200\n",
      "1631/1631 [==============================] - 0s 70us/step - loss: 0.1032 - val_loss: 0.1007\n",
      "Epoch 197/200\n",
      "1631/1631 [==============================] - 0s 74us/step - loss: 0.1032 - val_loss: 0.1008\n",
      "Epoch 198/200\n",
      "1631/1631 [==============================] - 0s 80us/step - loss: 0.1032 - val_loss: 0.0998\n",
      "Epoch 199/200\n",
      "1631/1631 [==============================] - 0s 78us/step - loss: 0.1032 - val_loss: 0.1010\n",
      "Epoch 200/200\n",
      "1631/1631 [==============================] - 0s 81us/step - loss: 0.1032 - val_loss: 0.1005\n"
     ]
    },
    {
     "data": {
      "text/plain": [
       "<keras.callbacks.History at 0x13419cc88>"
      ]
     },
     "execution_count": 64,
     "metadata": {},
     "output_type": "execute_result"
    }
   ],
   "source": [
    "np.random.seed(7)\n",
    "K.clear_session()\n",
    "model = Sequential()\n",
    "model.add(LSTM(7, input_shape=(1,1),activation='relu'))\n",
    "model.add(Dense(1))\n",
    "model.compile(loss='mean_squared_error',optimizer=Adam(lr=0.001))\n",
    "model.fit(X_train_t,y_train,validation_data=(X_test_t,y_test),epochs=200)"
   ]
  },
  {
   "cell_type": "code",
   "execution_count": 65,
   "metadata": {},
   "outputs": [
    {
     "data": {
      "text/plain": [
       "[<matplotlib.lines.Line2D at 0x134c91128>]"
      ]
     },
     "execution_count": 65,
     "metadata": {},
     "output_type": "execute_result"
    },
    {
     "data": {
      "image/png": "[encoded data removed]",
      "text/plain": [
       "<Figure size 432x288 with 1 Axes>"
      ]
     },
     "metadata": {},
     "output_type": "display_data"
    }
   ],
   "source": [
    "plt.plot(model.history.history['val_loss'][10:])"
   ]
  },
  {
   "cell_type": "code",
   "execution_count": 66,
   "metadata": {},
   "outputs": [],
   "source": [
    "predictions = model.predict(X_test_t)\n",
    "predictions_sc = sc.inverse_transform(predictions)"
   ]
  },
  {
   "cell_type": "code",
   "execution_count": 74,
   "metadata": {},
   "outputs": [
    {
     "data": {
      "text/plain": [
       "[<matplotlib.lines.Line2D at 0x134fbe5f8>]"
      ]
     },
     "execution_count": 74,
     "metadata": {},
     "output_type": "execute_result"
    },
    {
     "data": {
      "image/png": "[encoded data removed]",
      "text/plain": [
       "<Figure size 432x288 with 1 Axes>"
      ]
     },
     "metadata": {},
     "output_type": "display_data"
    }
   ],
   "source": [
    "plt.plot(test[1:].values)\n",
    "plt.plot(predictions_sc)"
   ]
  },
  {
   "cell_type": "code",
   "execution_count": 75,
   "metadata": {},
   "outputs": [
    {
     "name": "stdout",
     "output_type": "stream",
     "text": [
      "0.10081410180544051\n",
      "0.600108817740227\n"
     ]
    }
   ],
   "source": [
    "MSE = mean_squared_error(test[1:], predictions_sc)\n",
    "r2 = r2_score(test[1:], predictions_sc)\n",
    "\n",
    "print(np.sqrt(MSE))\n",
    "print(r2)"
   ]
  },
  {
   "cell_type": "markdown",
   "metadata": {},
   "source": [
    "## Feedforward NN"
   ]
  },
  {
   "cell_type": "code",
   "execution_count": 76,
   "metadata": {},
   "outputs": [
    {
     "name": "stdout",
     "output_type": "stream",
     "text": [
      "Train on 1631 samples, validate on 11 samples\n",
      "Epoch 1/200\n",
      "1631/1631 [==============================] - 0s 206us/step - loss: 0.3306 - val_loss: 0.1660\n",
      "Epoch 2/200\n",
      "1631/1631 [==============================] - 0s 29us/step - loss: 0.2353 - val_loss: 0.0946\n",
      "Epoch 3/200\n",
      "1631/1631 [==============================] - 0s 30us/step - loss: 0.1728 - val_loss: 0.0904\n",
      "Epoch 4/200\n",
      "1631/1631 [==============================] - 0s 29us/step - loss: 0.1367 - val_loss: 0.0910\n",
      "Epoch 5/200\n",
      "1631/1631 [==============================] - 0s 29us/step - loss: 0.1194 - val_loss: 0.0914\n",
      "Epoch 6/200\n",
      "1631/1631 [==============================] - 0s 28us/step - loss: 0.1127 - val_loss: 0.0901\n",
      "Epoch 7/200\n",
      "1631/1631 [==============================] - 0s 30us/step - loss: 0.1100 - val_loss: 0.0896\n",
      "Epoch 8/200\n",
      "1631/1631 [==============================] - 0s 28us/step - loss: 0.1087 - val_loss: 0.0897\n",
      "Epoch 9/200\n",
      "1631/1631 [==============================] - 0s 29us/step - loss: 0.1077 - val_loss: 0.0895\n",
      "Epoch 10/200\n",
      "1631/1631 [==============================] - 0s 30us/step - loss: 0.1072 - val_loss: 0.0890\n",
      "Epoch 11/200\n",
      "1631/1631 [==============================] - 0s 29us/step - loss: 0.1064 - val_loss: 0.0928\n",
      "Epoch 12/200\n",
      "1631/1631 [==============================] - 0s 31us/step - loss: 0.1061 - val_loss: 0.0901\n",
      "Epoch 13/200\n",
      "1631/1631 [==============================] - 0s 32us/step - loss: 0.1058 - val_loss: 0.0912\n",
      "Epoch 14/200\n",
      "1631/1631 [==============================] - 0s 42us/step - loss: 0.1054 - val_loss: 0.0897\n",
      "Epoch 15/200\n",
      "1631/1631 [==============================] - 0s 27us/step - loss: 0.1051 - val_loss: 0.0927\n",
      "Epoch 16/200\n",
      "1631/1631 [==============================] - 0s 29us/step - loss: 0.1049 - val_loss: 0.0921\n",
      "Epoch 17/200\n",
      "1631/1631 [==============================] - 0s 29us/step - loss: 0.1044 - val_loss: 0.0901\n",
      "Epoch 18/200\n",
      "1631/1631 [==============================] - 0s 33us/step - loss: 0.1043 - val_loss: 0.0903\n",
      "Epoch 19/200\n",
      "1631/1631 [==============================] - 0s 30us/step - loss: 0.1041 - val_loss: 0.0937\n",
      "Epoch 20/200\n",
      "1631/1631 [==============================] - 0s 29us/step - loss: 0.1039 - val_loss: 0.0892\n",
      "Epoch 21/200\n",
      "1631/1631 [==============================] - 0s 31us/step - loss: 0.1037 - val_loss: 0.0920\n",
      "Epoch 22/200\n",
      "1631/1631 [==============================] - 0s 30us/step - loss: 0.1038 - val_loss: 0.0903\n",
      "Epoch 23/200\n",
      "1631/1631 [==============================] - 0s 31us/step - loss: 0.1036 - val_loss: 0.0895\n",
      "Epoch 24/200\n",
      "1631/1631 [==============================] - 0s 31us/step - loss: 0.1034 - val_loss: 0.0898\n",
      "Epoch 25/200\n",
      "1631/1631 [==============================] - 0s 31us/step - loss: 0.1033 - val_loss: 0.0897\n",
      "Epoch 26/200\n",
      "1631/1631 [==============================] - 0s 38us/step - loss: 0.1032 - val_loss: 0.0905\n",
      "Epoch 27/200\n",
      "1631/1631 [==============================] - 0s 36us/step - loss: 0.1034 - val_loss: 0.0899\n",
      "Epoch 28/200\n",
      "1631/1631 [==============================] - 0s 38us/step - loss: 0.1032 - val_loss: 0.0900\n",
      "Epoch 29/200\n",
      "1631/1631 [==============================] - 0s 35us/step - loss: 0.1031 - val_loss: 0.0915\n",
      "Epoch 30/200\n",
      "1631/1631 [==============================] - 0s 31us/step - loss: 0.1031 - val_loss: 0.0899\n",
      "Epoch 31/200\n",
      "1631/1631 [==============================] - 0s 29us/step - loss: 0.1031 - val_loss: 0.0902\n",
      "Epoch 32/200\n",
      "1631/1631 [==============================] - 0s 27us/step - loss: 0.1032 - val_loss: 0.0898\n",
      "Epoch 33/200\n",
      "1631/1631 [==============================] - 0s 27us/step - loss: 0.1030 - val_loss: 0.0898\n",
      "Epoch 34/200\n",
      "1631/1631 [==============================] - 0s 40us/step - loss: 0.1030 - val_loss: 0.0911\n",
      "Epoch 35/200\n",
      "1631/1631 [==============================] - 0s 27us/step - loss: 0.1032 - val_loss: 0.0903\n",
      "Epoch 36/200\n",
      "1631/1631 [==============================] - 0s 32us/step - loss: 0.1031 - val_loss: 0.0917\n",
      "Epoch 37/200\n",
      "1631/1631 [==============================] - 0s 30us/step - loss: 0.1030 - val_loss: 0.0901\n",
      "Epoch 38/200\n",
      "1631/1631 [==============================] - 0s 30us/step - loss: 0.1030 - val_loss: 0.0905\n",
      "Epoch 39/200\n",
      "1631/1631 [==============================] - 0s 30us/step - loss: 0.1032 - val_loss: 0.0905\n",
      "Epoch 40/200\n",
      "1631/1631 [==============================] - 0s 30us/step - loss: 0.1031 - val_loss: 0.0918\n",
      "Epoch 41/200\n",
      "1631/1631 [==============================] - 0s 30us/step - loss: 0.1029 - val_loss: 0.0902\n",
      "Epoch 42/200\n",
      "1631/1631 [==============================] - 0s 29us/step - loss: 0.1031 - val_loss: 0.0918\n",
      "Epoch 43/200\n",
      "1631/1631 [==============================] - 0s 30us/step - loss: 0.1031 - val_loss: 0.0905\n",
      "Epoch 44/200\n",
      "1631/1631 [==============================] - 0s 35us/step - loss: 0.1030 - val_loss: 0.0922\n",
      "Epoch 45/200\n",
      "1631/1631 [==============================] - 0s 36us/step - loss: 0.1030 - val_loss: 0.0911\n",
      "Epoch 46/200\n",
      "1631/1631 [==============================] - 0s 38us/step - loss: 0.1031 - val_loss: 0.0904\n",
      "Epoch 47/200\n",
      "1631/1631 [==============================] - 0s 38us/step - loss: 0.1033 - val_loss: 0.0907\n",
      "Epoch 48/200\n",
      "1631/1631 [==============================] - 0s 35us/step - loss: 0.1030 - val_loss: 0.0906\n",
      "Epoch 49/200\n",
      "1631/1631 [==============================] - 0s 34us/step - loss: 0.1030 - val_loss: 0.0904\n",
      "Epoch 50/200\n",
      "1631/1631 [==============================] - 0s 31us/step - loss: 0.1031 - val_loss: 0.0902\n",
      "Epoch 51/200\n",
      "1631/1631 [==============================] - 0s 31us/step - loss: 0.1029 - val_loss: 0.0903\n",
      "Epoch 52/200\n",
      "1631/1631 [==============================] - 0s 31us/step - loss: 0.1032 - val_loss: 0.0911\n",
      "Epoch 53/200\n",
      "1631/1631 [==============================] - 0s 30us/step - loss: 0.1030 - val_loss: 0.0902\n",
      "Epoch 54/200\n",
      "1631/1631 [==============================] - 0s 30us/step - loss: 0.1029 - val_loss: 0.0910\n",
      "Epoch 55/200\n",
      "1631/1631 [==============================] - 0s 31us/step - loss: 0.1029 - val_loss: 0.0903\n",
      "Epoch 56/200\n",
      "1631/1631 [==============================] - 0s 33us/step - loss: 0.1029 - val_loss: 0.0904\n",
      "Epoch 57/200\n",
      "1631/1631 [==============================] - 0s 33us/step - loss: 0.1030 - val_loss: 0.0903\n",
      "Epoch 58/200\n",
      "1631/1631 [==============================] - 0s 35us/step - loss: 0.1032 - val_loss: 0.0904\n",
      "Epoch 59/200\n",
      "1631/1631 [==============================] - 0s 37us/step - loss: 0.1030 - val_loss: 0.0904\n",
      "Epoch 60/200\n",
      "1631/1631 [==============================] - 0s 35us/step - loss: 0.1032 - val_loss: 0.0902\n",
      "Epoch 61/200\n",
      "1631/1631 [==============================] - 0s 36us/step - loss: 0.1030 - val_loss: 0.0902\n",
      "Epoch 62/200\n",
      "1631/1631 [==============================] - 0s 38us/step - loss: 0.1029 - val_loss: 0.0903\n",
      "Epoch 63/200\n",
      "1631/1631 [==============================] - 0s 36us/step - loss: 0.1030 - val_loss: 0.0902\n",
      "Epoch 64/200\n",
      "1631/1631 [==============================] - 0s 36us/step - loss: 0.1029 - val_loss: 0.0913\n",
      "Epoch 65/200\n",
      "1631/1631 [==============================] - 0s 36us/step - loss: 0.1029 - val_loss: 0.0903\n",
      "Epoch 66/200\n",
      "1631/1631 [==============================] - 0s 30us/step - loss: 0.1030 - val_loss: 0.0912\n",
      "Epoch 67/200\n",
      "1631/1631 [==============================] - 0s 34us/step - loss: 0.1029 - val_loss: 0.0912\n",
      "Epoch 68/200\n",
      "1631/1631 [==============================] - 0s 31us/step - loss: 0.1030 - val_loss: 0.0908\n",
      "Epoch 69/200\n",
      "1631/1631 [==============================] - 0s 29us/step - loss: 0.1029 - val_loss: 0.0915\n",
      "Epoch 70/200\n",
      "1631/1631 [==============================] - 0s 27us/step - loss: 0.1030 - val_loss: 0.0932\n",
      "Epoch 71/200\n",
      "1631/1631 [==============================] - 0s 28us/step - loss: 0.1033 - val_loss: 0.0902\n",
      "Epoch 72/200\n",
      "1631/1631 [==============================] - 0s 31us/step - loss: 0.1031 - val_loss: 0.0904\n",
      "Epoch 73/200\n",
      "1631/1631 [==============================] - 0s 31us/step - loss: 0.1033 - val_loss: 0.0912\n",
      "Epoch 74/200\n",
      "1631/1631 [==============================] - 0s 31us/step - loss: 0.1032 - val_loss: 0.0905\n",
      "Epoch 75/200\n",
      "1631/1631 [==============================] - 0s 31us/step - loss: 0.1030 - val_loss: 0.0908\n",
      "Epoch 76/200\n",
      "1631/1631 [==============================] - 0s 30us/step - loss: 0.1029 - val_loss: 0.0917\n",
      "Epoch 77/200\n",
      "1631/1631 [==============================] - 0s 31us/step - loss: 0.1030 - val_loss: 0.0913\n",
      "Epoch 78/200\n"
     ]
    },
    {
     "name": "stdout",
     "output_type": "stream",
     "text": [
      "1631/1631 [==============================] - 0s 30us/step - loss: 0.1030 - val_loss: 0.0908\n",
      "Epoch 79/200\n",
      "1631/1631 [==============================] - 0s 31us/step - loss: 0.1031 - val_loss: 0.0912\n",
      "Epoch 80/200\n",
      "1631/1631 [==============================] - 0s 30us/step - loss: 0.1031 - val_loss: 0.0904\n",
      "Epoch 81/200\n",
      "1631/1631 [==============================] - 0s 29us/step - loss: 0.1029 - val_loss: 0.0905\n",
      "Epoch 82/200\n",
      "1631/1631 [==============================] - 0s 28us/step - loss: 0.1029 - val_loss: 0.0914\n",
      "Epoch 83/200\n",
      "1631/1631 [==============================] - 0s 29us/step - loss: 0.1031 - val_loss: 0.0945\n",
      "Epoch 84/200\n",
      "1631/1631 [==============================] - 0s 30us/step - loss: 0.1029 - val_loss: 0.0904\n",
      "Epoch 85/200\n",
      "1631/1631 [==============================] - 0s 29us/step - loss: 0.1029 - val_loss: 0.0904\n",
      "Epoch 86/200\n",
      "1631/1631 [==============================] - 0s 29us/step - loss: 0.1031 - val_loss: 0.0902\n",
      "Epoch 87/200\n",
      "1631/1631 [==============================] - 0s 28us/step - loss: 0.1032 - val_loss: 0.0923\n",
      "Epoch 88/200\n",
      "1631/1631 [==============================] - 0s 28us/step - loss: 0.1030 - val_loss: 0.0921\n",
      "Epoch 89/200\n",
      "1631/1631 [==============================] - 0s 29us/step - loss: 0.1030 - val_loss: 0.0907\n",
      "Epoch 90/200\n",
      "1631/1631 [==============================] - 0s 29us/step - loss: 0.1031 - val_loss: 0.0933\n",
      "Epoch 91/200\n",
      "1631/1631 [==============================] - 0s 31us/step - loss: 0.1030 - val_loss: 0.0907\n",
      "Epoch 92/200\n",
      "1631/1631 [==============================] - 0s 31us/step - loss: 0.1031 - val_loss: 0.0914\n",
      "Epoch 93/200\n",
      "1631/1631 [==============================] - 0s 31us/step - loss: 0.1029 - val_loss: 0.0903\n",
      "Epoch 94/200\n",
      "1631/1631 [==============================] - 0s 29us/step - loss: 0.1028 - val_loss: 0.0905\n",
      "Epoch 95/200\n",
      "1631/1631 [==============================] - 0s 30us/step - loss: 0.1030 - val_loss: 0.0903\n",
      "Epoch 96/200\n",
      "1631/1631 [==============================] - 0s 128us/step - loss: 0.1031 - val_loss: 0.0918\n",
      "Epoch 97/200\n",
      "1631/1631 [==============================] - 0s 30us/step - loss: 0.1033 - val_loss: 0.0904\n",
      "Epoch 98/200\n",
      "1631/1631 [==============================] - 0s 30us/step - loss: 0.1031 - val_loss: 0.0904\n",
      "Epoch 99/200\n",
      "1631/1631 [==============================] - 0s 29us/step - loss: 0.1030 - val_loss: 0.0903\n",
      "Epoch 100/200\n",
      "  32/1631 [..............................] - ETA: 0s - loss: 0.0751"
     ]
    },
    {
     "name": "stderr",
     "output_type": "stream",
     "text": [
      "/anaconda3/lib/python3.6/site-packages/keras/callbacks.py:122: UserWarning: Method on_batch_end() is slow compared to the batch update (0.158251). Check your callbacks.\n",
      "  % delta_t_median)\n"
     ]
    },
    {
     "name": "stdout",
     "output_type": "stream",
     "text": [
      "1631/1631 [==============================] - 0s 30us/step - loss: 0.1029 - val_loss: 0.0903\n",
      "Epoch 101/200\n",
      "1631/1631 [==============================] - 0s 30us/step - loss: 0.1030 - val_loss: 0.0912\n",
      "Epoch 102/200\n",
      "1631/1631 [==============================] - 0s 36us/step - loss: 0.1029 - val_loss: 0.0908\n",
      "Epoch 103/200\n",
      "1631/1631 [==============================] - 0s 39us/step - loss: 0.1029 - val_loss: 0.0906\n",
      "Epoch 104/200\n",
      "1631/1631 [==============================] - 0s 30us/step - loss: 0.1030 - val_loss: 0.0934\n",
      "Epoch 105/200\n",
      "1631/1631 [==============================] - 0s 27us/step - loss: 0.1030 - val_loss: 0.0905\n",
      "Epoch 106/200\n",
      "1631/1631 [==============================] - 0s 28us/step - loss: 0.1031 - val_loss: 0.0904\n",
      "Epoch 107/200\n",
      "1631/1631 [==============================] - 0s 27us/step - loss: 0.1029 - val_loss: 0.0904\n",
      "Epoch 108/200\n",
      "1631/1631 [==============================] - 0s 30us/step - loss: 0.1028 - val_loss: 0.0928\n",
      "Epoch 109/200\n",
      "1631/1631 [==============================] - 0s 29us/step - loss: 0.1031 - val_loss: 0.0919\n",
      "Epoch 110/200\n",
      "1631/1631 [==============================] - 0s 31us/step - loss: 0.1032 - val_loss: 0.0904\n",
      "Epoch 111/200\n",
      "1631/1631 [==============================] - 0s 31us/step - loss: 0.1033 - val_loss: 0.0906\n",
      "Epoch 112/200\n",
      "1631/1631 [==============================] - 0s 31us/step - loss: 0.1029 - val_loss: 0.0906\n",
      "Epoch 113/200\n",
      "1631/1631 [==============================] - 0s 31us/step - loss: 0.1030 - val_loss: 0.0905\n",
      "Epoch 114/200\n",
      "1631/1631 [==============================] - 0s 31us/step - loss: 0.1029 - val_loss: 0.0904\n",
      "Epoch 115/200\n",
      "1631/1631 [==============================] - 0s 30us/step - loss: 0.1029 - val_loss: 0.0906\n",
      "Epoch 116/200\n",
      "1631/1631 [==============================] - 0s 30us/step - loss: 0.1029 - val_loss: 0.0928\n",
      "Epoch 117/200\n",
      "1631/1631 [==============================] - 0s 30us/step - loss: 0.1032 - val_loss: 0.0932\n",
      "Epoch 118/200\n",
      "1631/1631 [==============================] - 0s 30us/step - loss: 0.1031 - val_loss: 0.0923\n",
      "Epoch 119/200\n",
      "1631/1631 [==============================] - 0s 30us/step - loss: 0.1028 - val_loss: 0.0904\n",
      "Epoch 120/200\n",
      "1631/1631 [==============================] - 0s 31us/step - loss: 0.1029 - val_loss: 0.0908\n",
      "Epoch 121/200\n",
      "1631/1631 [==============================] - 0s 31us/step - loss: 0.1029 - val_loss: 0.0923\n",
      "Epoch 122/200\n",
      "1631/1631 [==============================] - 0s 30us/step - loss: 0.1031 - val_loss: 0.0927\n",
      "Epoch 123/200\n",
      "1631/1631 [==============================] - 0s 30us/step - loss: 0.1030 - val_loss: 0.0926\n",
      "Epoch 124/200\n",
      "1631/1631 [==============================] - 0s 31us/step - loss: 0.1031 - val_loss: 0.0907\n",
      "Epoch 125/200\n",
      "1631/1631 [==============================] - 0s 30us/step - loss: 0.1030 - val_loss: 0.0944\n",
      "Epoch 126/200\n",
      "1631/1631 [==============================] - 0s 30us/step - loss: 0.1029 - val_loss: 0.0902\n",
      "Epoch 127/200\n",
      "1631/1631 [==============================] - 0s 31us/step - loss: 0.1029 - val_loss: 0.0923\n",
      "Epoch 128/200\n",
      "1631/1631 [==============================] - 0s 31us/step - loss: 0.1030 - val_loss: 0.0904\n",
      "Epoch 129/200\n",
      "1631/1631 [==============================] - 0s 30us/step - loss: 0.1031 - val_loss: 0.0904\n",
      "Epoch 130/200\n",
      "1631/1631 [==============================] - 0s 29us/step - loss: 0.1030 - val_loss: 0.0905\n",
      "Epoch 131/200\n",
      "1631/1631 [==============================] - 0s 29us/step - loss: 0.1032 - val_loss: 0.0913\n",
      "Epoch 132/200\n",
      "1631/1631 [==============================] - 0s 30us/step - loss: 0.1030 - val_loss: 0.0903\n",
      "Epoch 133/200\n",
      "1631/1631 [==============================] - 0s 29us/step - loss: 0.1030 - val_loss: 0.0904\n",
      "Epoch 134/200\n",
      "1631/1631 [==============================] - 0s 29us/step - loss: 0.1029 - val_loss: 0.0907\n",
      "Epoch 135/200\n",
      "1631/1631 [==============================] - 0s 29us/step - loss: 0.1029 - val_loss: 0.0905\n",
      "Epoch 136/200\n",
      "1631/1631 [==============================] - 0s 30us/step - loss: 0.1029 - val_loss: 0.0905\n",
      "Epoch 137/200\n",
      "1631/1631 [==============================] - 0s 30us/step - loss: 0.1030 - val_loss: 0.0936\n",
      "Epoch 138/200\n",
      "1631/1631 [==============================] - 0s 30us/step - loss: 0.1029 - val_loss: 0.0909\n",
      "Epoch 139/200\n",
      "1631/1631 [==============================] - 0s 29us/step - loss: 0.1031 - val_loss: 0.0928\n",
      "Epoch 140/200\n",
      "1631/1631 [==============================] - 0s 30us/step - loss: 0.1031 - val_loss: 0.0933\n",
      "Epoch 141/200\n",
      "1631/1631 [==============================] - 0s 31us/step - loss: 0.1031 - val_loss: 0.0904\n",
      "Epoch 142/200\n",
      "1631/1631 [==============================] - 0s 30us/step - loss: 0.1030 - val_loss: 0.0934\n",
      "Epoch 143/200\n",
      "1631/1631 [==============================] - 0s 30us/step - loss: 0.1029 - val_loss: 0.0903\n",
      "Epoch 144/200\n",
      "1631/1631 [==============================] - 0s 28us/step - loss: 0.1029 - val_loss: 0.0906\n",
      "Epoch 145/200\n",
      "1631/1631 [==============================] - 0s 28us/step - loss: 0.1029 - val_loss: 0.0936\n",
      "Epoch 146/200\n",
      "1631/1631 [==============================] - 0s 28us/step - loss: 0.1031 - val_loss: 0.0903\n",
      "Epoch 147/200\n",
      "1631/1631 [==============================] - 0s 27us/step - loss: 0.1028 - val_loss: 0.0902\n",
      "Epoch 148/200\n",
      "1631/1631 [==============================] - 0s 27us/step - loss: 0.1028 - val_loss: 0.0914\n",
      "Epoch 149/200\n",
      "1631/1631 [==============================] - 0s 30us/step - loss: 0.1030 - val_loss: 0.0904\n",
      "Epoch 150/200\n",
      "1631/1631 [==============================] - 0s 29us/step - loss: 0.1028 - val_loss: 0.0902\n",
      "Epoch 151/200\n",
      "1631/1631 [==============================] - 0s 30us/step - loss: 0.1030 - val_loss: 0.0903\n",
      "Epoch 152/200\n",
      "1631/1631 [==============================] - 0s 32us/step - loss: 0.1031 - val_loss: 0.0906\n",
      "Epoch 153/200\n",
      "1631/1631 [==============================] - 0s 30us/step - loss: 0.1032 - val_loss: 0.0904\n",
      "Epoch 154/200\n",
      "1631/1631 [==============================] - 0s 31us/step - loss: 0.1031 - val_loss: 0.0902\n",
      "Epoch 155/200\n",
      "1631/1631 [==============================] - 0s 31us/step - loss: 0.1028 - val_loss: 0.0903\n",
      "Epoch 156/200\n",
      "1631/1631 [==============================] - 0s 30us/step - loss: 0.1030 - val_loss: 0.0904\n",
      "Epoch 157/200\n",
      "1631/1631 [==============================] - 0s 31us/step - loss: 0.1028 - val_loss: 0.0903\n",
      "Epoch 158/200\n",
      "1631/1631 [==============================] - 0s 30us/step - loss: 0.1030 - val_loss: 0.0902\n",
      "Epoch 159/200\n",
      "1631/1631 [==============================] - 0s 30us/step - loss: 0.1029 - val_loss: 0.0907\n",
      "Epoch 160/200\n",
      "1631/1631 [==============================] - 0s 30us/step - loss: 0.1031 - val_loss: 0.0922\n",
      "Epoch 161/200\n",
      "1631/1631 [==============================] - 0s 31us/step - loss: 0.1028 - val_loss: 0.0902\n",
      "Epoch 162/200\n",
      "1631/1631 [==============================] - 0s 30us/step - loss: 0.1029 - val_loss: 0.0904\n",
      "Epoch 163/200\n",
      "1631/1631 [==============================] - 0s 31us/step - loss: 0.1032 - val_loss: 0.0906\n",
      "Epoch 164/200\n",
      "1631/1631 [==============================] - 0s 32us/step - loss: 0.1029 - val_loss: 0.0904\n",
      "Epoch 165/200\n",
      "1631/1631 [==============================] - 0s 30us/step - loss: 0.1031 - val_loss: 0.0902\n",
      "Epoch 166/200\n",
      "1631/1631 [==============================] - 0s 31us/step - loss: 0.1028 - val_loss: 0.0904\n",
      "Epoch 167/200\n",
      "1631/1631 [==============================] - 0s 29us/step - loss: 0.1032 - val_loss: 0.0903\n",
      "Epoch 168/200\n",
      "1631/1631 [==============================] - 0s 31us/step - loss: 0.1030 - val_loss: 0.0934\n",
      "Epoch 169/200\n",
      "1631/1631 [==============================] - 0s 31us/step - loss: 0.1029 - val_loss: 0.0902\n",
      "Epoch 170/200\n",
      "1631/1631 [==============================] - 0s 30us/step - loss: 0.1029 - val_loss: 0.0916\n",
      "Epoch 171/200\n",
      "1631/1631 [==============================] - 0s 31us/step - loss: 0.1029 - val_loss: 0.0946\n",
      "Epoch 172/200\n",
      "1631/1631 [==============================] - 0s 30us/step - loss: 0.1031 - val_loss: 0.0903\n",
      "Epoch 173/200\n",
      "1631/1631 [==============================] - 0s 31us/step - loss: 0.1030 - val_loss: 0.0902\n",
      "Epoch 174/200\n",
      "1631/1631 [==============================] - 0s 30us/step - loss: 0.1028 - val_loss: 0.0907\n",
      "Epoch 175/200\n",
      "1631/1631 [==============================] - 0s 30us/step - loss: 0.1029 - val_loss: 0.0904\n",
      "Epoch 176/200\n",
      "1631/1631 [==============================] - 0s 30us/step - loss: 0.1030 - val_loss: 0.0903\n",
      "Epoch 177/200\n"
     ]
    },
    {
     "name": "stdout",
     "output_type": "stream",
     "text": [
      "1631/1631 [==============================] - 0s 32us/step - loss: 0.1031 - val_loss: 0.0918\n",
      "Epoch 178/200\n",
      "1631/1631 [==============================] - 0s 32us/step - loss: 0.1029 - val_loss: 0.0912\n",
      "Epoch 179/200\n",
      "1631/1631 [==============================] - 0s 31us/step - loss: 0.1029 - val_loss: 0.0917\n",
      "Epoch 180/200\n",
      "1631/1631 [==============================] - 0s 31us/step - loss: 0.1030 - val_loss: 0.0908\n",
      "Epoch 181/200\n",
      "1631/1631 [==============================] - 0s 30us/step - loss: 0.1030 - val_loss: 0.0904\n",
      "Epoch 182/200\n",
      "1631/1631 [==============================] - 0s 30us/step - loss: 0.1032 - val_loss: 0.0920\n",
      "Epoch 183/200\n",
      "1631/1631 [==============================] - 0s 30us/step - loss: 0.1031 - val_loss: 0.0903\n",
      "Epoch 184/200\n",
      "1631/1631 [==============================] - 0s 30us/step - loss: 0.1030 - val_loss: 0.0908\n",
      "Epoch 185/200\n",
      "1631/1631 [==============================] - 0s 30us/step - loss: 0.1030 - val_loss: 0.0907\n",
      "Epoch 186/200\n",
      "1631/1631 [==============================] - 0s 29us/step - loss: 0.1030 - val_loss: 0.0908\n",
      "Epoch 187/200\n",
      "1631/1631 [==============================] - 0s 30us/step - loss: 0.1029 - val_loss: 0.0903\n",
      "Epoch 188/200\n",
      "1631/1631 [==============================] - 0s 30us/step - loss: 0.1029 - val_loss: 0.0914\n",
      "Epoch 189/200\n",
      "1631/1631 [==============================] - 0s 28us/step - loss: 0.1030 - val_loss: 0.0903\n",
      "Epoch 190/200\n",
      "1631/1631 [==============================] - 0s 29us/step - loss: 0.1030 - val_loss: 0.0907\n",
      "Epoch 191/200\n",
      "1631/1631 [==============================] - 0s 28us/step - loss: 0.1031 - val_loss: 0.0906\n",
      "Epoch 192/200\n",
      "1631/1631 [==============================] - 0s 28us/step - loss: 0.1028 - val_loss: 0.0926\n",
      "Epoch 193/200\n",
      "1631/1631 [==============================] - 0s 29us/step - loss: 0.1030 - val_loss: 0.0902\n",
      "Epoch 194/200\n",
      "1631/1631 [==============================] - 0s 29us/step - loss: 0.1029 - val_loss: 0.0904\n",
      "Epoch 195/200\n",
      "1631/1631 [==============================] - 0s 30us/step - loss: 0.1030 - val_loss: 0.0928\n",
      "Epoch 196/200\n",
      "1631/1631 [==============================] - 0s 31us/step - loss: 0.1029 - val_loss: 0.0906\n",
      "Epoch 197/200\n",
      "1631/1631 [==============================] - 0s 30us/step - loss: 0.1028 - val_loss: 0.0923\n",
      "Epoch 198/200\n",
      "1631/1631 [==============================] - 0s 30us/step - loss: 0.1032 - val_loss: 0.0904\n",
      "Epoch 199/200\n",
      "1631/1631 [==============================] - 0s 30us/step - loss: 0.1030 - val_loss: 0.0906\n",
      "Epoch 200/200\n",
      "1631/1631 [==============================] - 0s 29us/step - loss: 0.1029 - val_loss: 0.0907\n"
     ]
    },
    {
     "data": {
      "text/plain": [
       "<keras.callbacks.History at 0x1350d65c0>"
      ]
     },
     "execution_count": 76,
     "metadata": {},
     "output_type": "execute_result"
    }
   ],
   "source": [
    "model = Sequential()\n",
    "model.add(Dense(7, input_dim=1, activation='relu'))\n",
    "model.add(Dense(1))\n",
    "model.compile(loss='mean_squared_error', optimizer=Adam(lr=0.001))\n",
    "model.fit(X_train,y_train,validation_data=(X_test,y_test),epochs=200)"
   ]
  },
  {
   "cell_type": "code",
   "execution_count": 78,
   "metadata": {},
   "outputs": [
    {
     "data": {
      "text/plain": [
       "[<matplotlib.lines.Line2D at 0x1354e9470>]"
      ]
     },
     "execution_count": 78,
     "metadata": {},
     "output_type": "execute_result"
    },
    {
     "data": {
      "image/png": "[encoded data removed]",
      "text/plain": [
       "<Figure size 432x288 with 1 Axes>"
      ]
     },
     "metadata": {},
     "output_type": "display_data"
    }
   ],
   "source": [
    "plt.plot(model.history.history['val_loss'])"
   ]
  },
  {
   "cell_type": "code",
   "execution_count": 79,
   "metadata": {},
   "outputs": [],
   "source": [
    "predictions = model.predict(X_test)\n",
    "predictions = sc.inverse_transform(predictions)"
   ]
  },
  {
   "cell_type": "code",
   "execution_count": 80,
   "metadata": {},
   "outputs": [
    {
     "data": {
      "text/plain": [
       "[<matplotlib.lines.Line2D at 0x135552400>]"
      ]
     },
     "execution_count": 80,
     "metadata": {},
     "output_type": "execute_result"
    },
    {
     "data": {
      "image/png": "[encoded data removed]",
      "text/plain": [
       "<Figure size 432x288 with 1 Axes>"
      ]
     },
     "metadata": {},
     "output_type": "display_data"
    }
   ],
   "source": [
    "plt.plot(predictions)"
   ]
  },
  {
   "cell_type": "code",
   "execution_count": 81,
   "metadata": {},
   "outputs": [
    {
     "data": {
      "text/plain": [
       "[<matplotlib.lines.Line2D at 0x135691ba8>]"
      ]
     },
     "execution_count": 81,
     "metadata": {},
     "output_type": "execute_result"
    },
    {
     "data": {
      "image/png": "[encoded data removed]",
      "text/plain": [
       "<Figure size 432x288 with 1 Axes>"
      ]
     },
     "metadata": {},
     "output_type": "display_data"
    }
   ],
   "source": [
    "plt.plot(test[1:].values)\n",
    "plt.plot(predictions)"
   ]
  },
  {
   "cell_type": "code",
   "execution_count": 82,
   "metadata": {},
   "outputs": [
    {
     "name": "stdout",
     "output_type": "stream",
     "text": [
      "0.09576390116629162\n",
      "0.6391697683986877\n"
     ]
    }
   ],
   "source": [
    "MSE = mean_squared_error(test[1:], predictions)\n",
    "r2 = r2_score(test[1:], predictions)\n",
    "\n",
    "print(np.sqrt(MSE))\n",
    "print(r2)"
   ]
  },
  {
   "cell_type": "code",
   "execution_count": null,
   "metadata": {},
   "outputs": [],
   "source": []
  }
 ],
 "metadata": {
  "kernelspec": {
   "display_name": "Python 3",
   "language": "python",
   "name": "python3"
  },
  "language_info": {
   "codemirror_mode": {
    "name": "ipython",
    "version": 3
   },
   "file_extension": ".py",
   "mimetype": "text/x-python",
   "name": "python",
   "nbconvert_exporter": "python",
   "pygments_lexer": "ipython3",
   "version": "3.6.5"
  }
 },
 "nbformat": 4,
 "nbformat_minor": 2
}
